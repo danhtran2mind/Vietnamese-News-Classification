{
 "cells": [
  {
   "cell_type": "markdown",
   "metadata": {},
   "source": [
    "# Setup Working directory"
   ]
  },
  {
   "cell_type": "code",
   "execution_count": null,
   "metadata": {},
   "outputs": [],
   "source": [
    "import os\n",
    "\n",
    "if os.path.basename(os.getcwd()) == \"notebooks\":\n",
    "    os.chdir(\"../\")"
   ]
  },
  {
   "cell_type": "markdown",
   "metadata": {},
   "source": [
    "# Download Dataset and Libraries"
   ]
  },
  {
   "cell_type": "code",
   "execution_count": 3,
   "metadata": {
    "execution": {
     "iopub.execute_input": "2025-01-10T10:22:35.163854Z",
     "iopub.status.busy": "2025-01-10T10:22:35.163583Z",
     "iopub.status.idle": "2025-01-10T10:25:14.286192Z",
     "shell.execute_reply": "2025-01-10T10:25:14.285353Z",
     "shell.execute_reply.started": "2025-01-10T10:22:35.163831Z"
    },
    "id": "L7Dp52kBa12v",
    "trusted": true
   },
   "outputs": [
    {
     "name": "stdout",
     "output_type": "stream",
     "text": [
      "  Installing build dependencies ... \u001b[?25l\u001b[?25hdone\n",
      "  Getting requirements to build wheel ... \u001b[?25l\u001b[?25hdone\n",
      "  Preparing metadata (pyproject.toml) ... \u001b[?25l\u001b[?25hdone\n",
      "  Installing build dependencies ... \u001b[?25l\u001b[?25hdone\n",
      "  Getting requirements to build wheel ... \u001b[?25l\u001b[?25hdone\n",
      "  Preparing metadata (pyproject.toml) ... \u001b[?25l\u001b[?25hdone\n",
      "  Installing build dependencies ... \u001b[?25l\u001b[?25hdone\n",
      "  Getting requirements to build wheel ... \u001b[?25l\u001b[?25hdone\n",
      "  Preparing metadata (pyproject.toml) ... \u001b[?25l\u001b[?25hdone\n",
      "  Installing build dependencies ... \u001b[?25l\u001b[?25hdone\n",
      "  Getting requirements to build wheel ... \u001b[?25l\u001b[?25hdone\n",
      "  Preparing metadata (pyproject.toml) ... \u001b[?25l\u001b[?25hdone\n",
      "\u001b[2K     \u001b[90m━━━━━━━━━━━━━━━━━━━━━━━━━━━━━━━━━━━━━━━━\u001b[0m \u001b[32m42.2/42.2 kB\u001b[0m \u001b[31m1.4 MB/s\u001b[0m eta \u001b[36m0:00:00\u001b[0m\n",
      "\u001b[?25h  Installing build dependencies ... \u001b[?25l\u001b[?25hdone\n",
      "  Getting requirements to build wheel ... \u001b[?25l\u001b[?25hdone\n",
      "  Preparing metadata (pyproject.toml) ... \u001b[?25l\u001b[?25hdone\n",
      "  Installing build dependencies ... \u001b[?25l\u001b[?25hdone\n",
      "  Getting requirements to build wheel ... \u001b[?25l\u001b[?25hdone\n",
      "  Preparing metadata (pyproject.toml) ... \u001b[?25l\u001b[?25hdone\n",
      "  Installing build dependencies ... \u001b[?25l\u001b[?25hdone\n",
      "  Getting requirements to build wheel ... \u001b[?25l\u001b[?25hdone\n",
      "  Preparing metadata (pyproject.toml) ... \u001b[?25l\u001b[?25hdone\n",
      "  Installing build dependencies ... \u001b[?25l\u001b[?25hdone\n",
      "  Getting requirements to build wheel ... \u001b[?25l\u001b[?25hdone\n",
      "  Preparing metadata (pyproject.toml) ... \u001b[?25l\u001b[?25hdone\n",
      "\u001b[2K   \u001b[90m━━━━━━━━━━━━━━━━━━━━━━━━━━━━━━━━━━━━━━━━\u001b[0m \u001b[32m26.9/26.9 MB\u001b[0m \u001b[31m62.5 MB/s\u001b[0m eta \u001b[36m0:00:00\u001b[0m:00:01\u001b[0m00:01\u001b[0m\n",
      "\u001b[2K   \u001b[90m━━━━━━━━━━━━━━━━━━━━━━━━━━━━━━━━━━━━━━━━\u001b[0m \u001b[32m134.4/134.4 kB\u001b[0m \u001b[31m9.4 MB/s\u001b[0m eta \u001b[36m0:00:00\u001b[0m\n",
      "\u001b[2K   \u001b[90m━━━━━━━━━━━━━━━━━━━━━━━━━━━━━━━━━━━━━━━━\u001b[0m \u001b[32m67.2/67.2 kB\u001b[0m \u001b[31m5.0 MB/s\u001b[0m eta \u001b[36m0:00:00\u001b[0m\n",
      "\u001b[2K   \u001b[90m━━━━━━━━━━━━━━━━━━━━━━━━━━━━━━━━━━━━━━━━\u001b[0m \u001b[32m2.0/2.0 MB\u001b[0m \u001b[31m61.6 MB/s\u001b[0m eta \u001b[36m0:00:00\u001b[0m\n",
      "\u001b[2K   \u001b[90m━━━━━━━━━━━━━━━━━━━━━━━━━━━━━━━━━━━━━━━━\u001b[0m \u001b[32m916.0/916.0 kB\u001b[0m \u001b[31m47.4 MB/s\u001b[0m eta \u001b[36m0:00:00\u001b[0m\n",
      "\u001b[2K   \u001b[90m━━━━━━━━━━━━━━━━━━━━━━━━━━━━━━━━━━━━━━━━\u001b[0m \u001b[32m1.3/1.3 MB\u001b[0m \u001b[31m62.9 MB/s\u001b[0m eta \u001b[36m0:00:00\u001b[0m\n",
      "\u001b[2K   \u001b[90m━━━━━━━━━━━━━━━━━━━━━━━━━━━━━━━━━━━━━━━━\u001b[0m \u001b[32m244.5/244.5 kB\u001b[0m \u001b[31m19.6 MB/s\u001b[0m eta \u001b[36m0:00:00\u001b[0m\n",
      "\u001b[2K   \u001b[90m━━━━━━━━━━━━━━━━━━━━━━━━━━━━━━━━━━━━━━━━\u001b[0m \u001b[32m1.0/1.0 MB\u001b[0m \u001b[31m54.2 MB/s\u001b[0m eta \u001b[36m0:00:00\u001b[0m\n",
      "\u001b[2K   \u001b[90m━━━━━━━━━━━━━━━━━━━━━━━━━━━━━━━━━━━━━━━━\u001b[0m \u001b[32m457.8/457.8 MB\u001b[0m \u001b[31m3.7 MB/s\u001b[0m eta \u001b[36m0:00:00\u001b[0m0:00:01\u001b[0m00:01\u001b[0m\n",
      "\u001b[2K   \u001b[90m━━━━━━━━━━━━━━━━━━━━━━━━━━━━━━━━━━━━━━━━\u001b[0m \u001b[32m37.3/37.3 MB\u001b[0m \u001b[31m49.7 MB/s\u001b[0m eta \u001b[36m0:00:00\u001b[0m:00:01\u001b[0m00:01\u001b[0m\n",
      "\u001b[2K   \u001b[90m━━━━━━━━━━━━━━━━━━━━━━━━━━━━━━━━━━━━━━━━\u001b[0m \u001b[32m2.0/2.0 MB\u001b[0m \u001b[31m74.3 MB/s\u001b[0m eta \u001b[36m0:00:00\u001b[0m\n",
      "\u001b[2K   \u001b[90m━━━━━━━━━━━━━━━━━━━━━━━━━━━━━━━━━━━━━━━━\u001b[0m \u001b[32m28.9/28.9 MB\u001b[0m \u001b[31m55.6 MB/s\u001b[0m eta \u001b[36m0:00:00\u001b[0m:00:01\u001b[0m00:01\u001b[0m\n",
      "\u001b[2K   \u001b[90m━━━━━━━━━━━━━━━━━━━━━━━━━━━━━━━━━━━━━━━━\u001b[0m \u001b[32m393.1/393.1 MB\u001b[0m \u001b[31m4.2 MB/s\u001b[0m eta \u001b[36m0:00:00\u001b[0m0:00:01\u001b[0m00:01\u001b[0m\n",
      "\u001b[2K   \u001b[90m━━━━━━━━━━━━━━━━━━━━━━━━━━━━━━━━━━━━━━━━\u001b[0m \u001b[32m200.2/200.2 MB\u001b[0m \u001b[31m8.5 MB/s\u001b[0m eta \u001b[36m0:00:00\u001b[0m0:00:01\u001b[0m00:01\u001b[0m\n",
      "\u001b[2K   \u001b[90m━━━━━━━━━━━━━━━━━━━━━━━━━━━━━━━━━━━━━━━━\u001b[0m \u001b[32m56.3/56.3 MB\u001b[0m \u001b[31m30.9 MB/s\u001b[0m eta \u001b[36m0:00:00\u001b[0m:00:01\u001b[0m00:01\u001b[0m\n",
      "\u001b[2K   \u001b[90m━━━━━━━━━━━━━━━━━━━━━━━━━━━━━━━━━━━━━━━━\u001b[0m \u001b[32m158.2/158.2 MB\u001b[0m \u001b[31m8.9 MB/s\u001b[0m eta \u001b[36m0:00:00\u001b[0m0:00:01\u001b[0m00:01\u001b[0m\n",
      "\u001b[2K   \u001b[90m━━━━━━━━━━━━━━━━━━━━━━━━━━━━━━━━━━━━━━━━\u001b[0m \u001b[32m216.6/216.6 MB\u001b[0m \u001b[31m5.6 MB/s\u001b[0m eta \u001b[36m0:00:00\u001b[0m0:00:01\u001b[0m00:01\u001b[0m\n",
      "\u001b[2K   \u001b[90m━━━━━━━━━━━━━━━━━━━━━━━━━━━━━━━━━━━━━━━━\u001b[0m \u001b[32m424.7/424.7 kB\u001b[0m \u001b[31m24.2 MB/s\u001b[0m eta \u001b[36m0:00:00\u001b[0m\n",
      "\u001b[2K   \u001b[90m━━━━━━━━━━━━━━━━━━━━━━━━━━━━━━━━━━━━━━━━\u001b[0m \u001b[32m47.0/47.0 kB\u001b[0m \u001b[31m3.7 MB/s\u001b[0m eta \u001b[36m0:00:00\u001b[0m\n",
      "\u001b[2K   \u001b[90m━━━━━━━━━━━━━━━━━━━━━━━━━━━━━━━━━━━━━━━━\u001b[0m \u001b[32m19.7/19.7 MB\u001b[0m \u001b[31m74.3 MB/s\u001b[0m eta \u001b[36m0:00:00\u001b[0m:00:01\u001b[0m00:01\u001b[0m\n",
      "\u001b[2K   \u001b[90m━━━━━━━━━━━━━━━━━━━━━━━━━━━━━━━━━━━━━━━━\u001b[0m \u001b[32m26.9/26.9 MB\u001b[0m \u001b[31m62.8 MB/s\u001b[0m eta \u001b[36m0:00:00\u001b[0m:00:01\u001b[0m00:01\u001b[0m\n",
      "\u001b[?25h  Building wheel for cuml-cu12 (pyproject.toml) ... \u001b[?25l\u001b[?25hdone\n",
      "  Building wheel for cuvs-cu12 (pyproject.toml) ... \u001b[?25l\u001b[?25hdone\n",
      "  Building wheel for pylibraft-cu12 (pyproject.toml) ... \u001b[?25l\u001b[?25hdone\n",
      "  Building wheel for raft-dask-cu12 (pyproject.toml) ... \u001b[?25l\u001b[?25hdone\n",
      "  Building wheel for distributed-ucxx-cu12 (pyproject.toml) ... \u001b[?25l\u001b[?25hdone\n",
      "  Building wheel for ucx-py-cu12 (pyproject.toml) ... \u001b[?25l\u001b[?25hdone\n",
      "  Building wheel for ucxx-cu12 (pyproject.toml) ... \u001b[?25l\u001b[?25hdone\n",
      "  Building wheel for libucxx-cu12 (pyproject.toml) ... \u001b[?25l\u001b[?25hdone\n"
     ]
    }
   ],
   "source": [
    "!pip install -q cuml-cu12"
   ]
  },
  {
   "cell_type": "markdown",
   "metadata": {},
   "source": [
    "# Processing"
   ]
  },
  {
   "cell_type": "markdown",
   "metadata": {},
   "source": [
    "## Load Exists Dataset"
   ]
  },
  {
   "cell_type": "code",
   "execution_count": 5,
   "metadata": {
    "execution": {
     "iopub.execute_input": "2025-01-10T10:25:15.262871Z",
     "iopub.status.busy": "2025-01-10T10:25:15.262612Z",
     "iopub.status.idle": "2025-01-10T10:25:20.342104Z",
     "shell.execute_reply": "2025-01-10T10:25:20.341481Z",
     "shell.execute_reply.started": "2025-01-10T10:25:15.262848Z"
    },
    "trusted": true
   },
   "outputs": [],
   "source": [
    "import os\n",
    "import pandas as pd\n",
    "import cudf\n",
    "import numpy as np\n",
    "import cupy as cp\n",
    "from cuml.feature_extraction.text import TfidfVectorizer\n",
    "from cuml.model_selection import train_test_split"
   ]
  },
  {
   "cell_type": "code",
   "execution_count": 6,
   "metadata": {
    "execution": {
     "iopub.execute_input": "2025-01-10T10:25:20.343849Z",
     "iopub.status.busy": "2025-01-10T10:25:20.343379Z",
     "iopub.status.idle": "2025-01-10T10:25:22.164890Z",
     "shell.execute_reply": "2025-01-10T10:25:22.164236Z",
     "shell.execute_reply.started": "2025-01-10T10:25:20.343827Z"
    },
    "trusted": true
   },
   "outputs": [],
   "source": [
    "converted_df = pd.read_csv('dataset/converted_train_dataset.csv')\n",
    "converted_test_df = pd.read_csv('dataset/converted_test_dataset.csv')"
   ]
  },
  {
   "cell_type": "markdown",
   "metadata": {},
   "source": [
    "## Word2Vec"
   ]
  },
  {
   "cell_type": "code",
   "execution_count": 7,
   "metadata": {
    "execution": {
     "iopub.execute_input": "2025-01-10T10:25:22.166075Z",
     "iopub.status.busy": "2025-01-10T10:25:22.165751Z",
     "iopub.status.idle": "2025-01-10T10:25:40.283232Z",
     "shell.execute_reply": "2025-01-10T10:25:40.282245Z",
     "shell.execute_reply.started": "2025-01-10T10:25:22.166042Z"
    },
    "id": "jA7_IoDYeAZl",
    "trusted": true
   },
   "outputs": [],
   "source": [
    "# Create a TfidfVectorizer object\n",
    "vectorizer = TfidfVectorizer(max_features=5000)\n",
    "\n",
    "# Fit the vectorizer on the training data\n",
    "vectorizer.fit(converted_df['content'])\n",
    "\n",
    "# Transform both the training and testing data\n",
    "X_vectors = vectorizer.transform(converted_df['content'])\n",
    "X_test = vectorizer.transform(converted_test_df['content'])"
   ]
  },
  {
   "cell_type": "code",
   "execution_count": 8,
   "metadata": {
    "colab": {
     "base_uri": "https://localhost:8080/",
     "height": 1000
    },
    "execution": {
     "iopub.execute_input": "2025-01-10T10:25:40.284605Z",
     "iopub.status.busy": "2025-01-10T10:25:40.284330Z",
     "iopub.status.idle": "2025-01-10T10:25:40.300501Z",
     "shell.execute_reply": "2025-01-10T10:25:40.299664Z",
     "shell.execute_reply.started": "2025-01-10T10:25:40.284581Z"
    },
    "id": "wLEqAIeQfLoY",
    "outputId": "91ed843d-80a0-4d3e-990c-f863767f19d6",
    "trusted": true
   },
   "outputs": [],
   "source": [
    "y = converted_df['label']\n",
    "# Convert y to numerical labels if it contains strings\n",
    "if y.dtype == 'object':\n",
    "    unique_classes = y.unique()\n",
    "    class_to_number = {class_name: i for i, class_name in enumerate(unique_classes)}\n",
    "    y = y.map(class_to_number)\n",
    "    y = cudf.Series(y) # Convert to cudf Series if necessary\n",
    "\n",
    "y_test = converted_test_df['label']  # Assuming you need this for testing later\n",
    "# Convert y_test to numerical labels as well if necessary\n",
    "if y_test.dtype == 'object':\n",
    "    y_test = y_test.map(class_to_number)\n",
    "    y_test = cudf.Series(y_test) # Convert to cudf Series if necessary"
   ]
  },
  {
   "cell_type": "markdown",
   "metadata": {},
   "source": [
    "## Split Dataset"
   ]
  },
  {
   "cell_type": "code",
   "execution_count": 9,
   "metadata": {
    "execution": {
     "iopub.execute_input": "2025-01-10T10:25:40.301664Z",
     "iopub.status.busy": "2025-01-10T10:25:40.301375Z",
     "iopub.status.idle": "2025-01-10T10:25:42.906108Z",
     "shell.execute_reply": "2025-01-10T10:25:42.905206Z",
     "shell.execute_reply.started": "2025-01-10T10:25:40.301634Z"
    },
    "trusted": true
   },
   "outputs": [],
   "source": [
    "X_vectors = cp.asnumpy(X_vectors.toarray())\n",
    "y = cp.asnumpy(y.to_cupy())"
   ]
  },
  {
   "cell_type": "code",
   "execution_count": 10,
   "metadata": {
    "execution": {
     "iopub.execute_input": "2025-01-10T10:25:42.908821Z",
     "iopub.status.busy": "2025-01-10T10:25:42.908573Z",
     "iopub.status.idle": "2025-01-10T10:25:48.087427Z",
     "shell.execute_reply": "2025-01-10T10:25:48.086705Z",
     "shell.execute_reply.started": "2025-01-10T10:25:42.908799Z"
    },
    "id": "ceeDWLwodFx-",
    "trusted": true
   },
   "outputs": [],
   "source": [
    "# Convert train_vectors to dense CuPy array\n",
    "# X_vectors = X_vectors.toarray()  # Convert to dense NumPy array\n",
    "\n",
    "# Split the data using train_test_split\n",
    "X_train, X_val, y_train, y_val = train_test_split(X_vectors, y, test_size=0.2,\n",
    "                                                  stratify=y, random_state=12345)"
   ]
  },
  {
   "cell_type": "code",
   "execution_count": 11,
   "metadata": {
    "execution": {
     "iopub.execute_input": "2025-01-10T10:25:48.088641Z",
     "iopub.status.busy": "2025-01-10T10:25:48.088446Z",
     "iopub.status.idle": "2025-01-10T10:25:48.161311Z",
     "shell.execute_reply": "2025-01-10T10:25:48.160360Z",
     "shell.execute_reply.started": "2025-01-10T10:25:48.088624Z"
    },
    "trusted": true
   },
   "outputs": [],
   "source": [
    "# X_train = cp.asnumpy(X_train)\n",
    "# X_val = cp.asnumpy(X_val)\n",
    "X_test = cp.asnumpy(X_test.toarray())\n",
    "# y_train = cp.asnumpy(y_train.to_cupy())\n",
    "# y_val = cp.asnumpy(y_val.to_cupy())\n",
    "y_test = cp.asnumpy(y_test.to_cupy())"
   ]
  },
  {
   "cell_type": "markdown",
   "metadata": {},
   "source": [
    "# All Models"
   ]
  },
  {
   "cell_type": "code",
   "execution_count": null,
   "metadata": {
    "execution": {
     "iopub.execute_input": "2025-01-10T10:25:48.162688Z",
     "iopub.status.busy": "2025-01-10T10:25:48.162427Z",
     "iopub.status.idle": "2025-01-10T10:25:48.365898Z",
     "shell.execute_reply": "2025-01-10T10:25:48.365311Z",
     "shell.execute_reply.started": "2025-01-10T10:25:48.162656Z"
    },
    "trusted": true
   },
   "outputs": [],
   "source": [
    "from cuml.ensemble import RandomForestClassifier\n",
    "import xgboost as xgb\n",
    "from cuml.linear_model import LogisticRegression\n",
    "from cuml.svm import SVC\n",
    "from cuml.neighbors import NearestNeighbors\n",
    "from sklearn.model_selection import PredefinedSplit\n",
    "from sklearn.model_selection import GridSearchCV\n",
    "from sklearn.metrics import classification_report, accuracy_score"
   ]
  },
  {
   "cell_type": "code",
   "execution_count": null,
   "metadata": {
    "trusted": true
   },
   "outputs": [],
   "source": [
    "def show_evaluation(grid_model, model_name='SVM'):\n",
    "    print(f'Best model of {model_name}', grid_model.best_params_)\n",
    "    \n",
    "    val_pred = grid_model.best_estimator_.predict(cp.asnumpy(X_val))\n",
    "    test_pred = grid_model.best_estimator_.predict(cp.asnumpy(X_test))\n",
    "\n",
    "    print(f'Accuracy of {model_name} in Val Set is: ', accuracy_score(y_val, val_pred))\n",
    "    print(f'Accuracy of {model_name} in Test Set is: ', accuracy_score(y_test, test_pred))\n",
    "\n",
    "    print(f'\\nClassification Report of {model_name} in Test Set is:\\n',\n",
    "            classification_report(y_test, test_pred, digits=6, target_names=list(class_to_number.keys())))"
   ]
  },
  {
   "cell_type": "code",
   "execution_count": 14,
   "metadata": {
    "execution": {
     "iopub.execute_input": "2025-01-10T10:25:48.371594Z",
     "iopub.status.busy": "2025-01-10T10:25:48.371314Z",
     "iopub.status.idle": "2025-01-10T10:25:48.589340Z",
     "shell.execute_reply": "2025-01-10T10:25:48.588455Z",
     "shell.execute_reply.started": "2025-01-10T10:25:48.371566Z"
    },
    "trusted": true
   },
   "outputs": [],
   "source": [
    "ps = PredefinedSplit(test_fold= [-1] * len(X_train) + [0] * len(X_val))\n",
    "\n",
    "# split = [range(len(X_train)), range(len(X_train), len(X_train) + len(X_val))]\n",
    "\n",
    "X_merge = np.concatenate((X_train, X_val), axis=0)\n",
    "y_merge = np.concatenate((y_train, y_val), axis=0)"
   ]
  },
  {
   "cell_type": "code",
   "execution_count": 38,
   "metadata": {
    "execution": {
     "iopub.execute_input": "2025-01-10T10:45:42.905069Z",
     "iopub.status.busy": "2025-01-10T10:45:42.904735Z",
     "iopub.status.idle": "2025-01-10T10:45:42.910662Z",
     "shell.execute_reply": "2025-01-10T10:45:42.909804Z",
     "shell.execute_reply.started": "2025-01-10T10:45:42.905038Z"
    },
    "trusted": true
   },
   "outputs": [],
   "source": [
    "# All Params Grid\n",
    "\n",
    "rf_params_grid = { \n",
    "                'n_estimators': [100, 200, 300],\n",
    "                'max_features': ['sqrt', 'log2'],\n",
    "                'max_depth' : [6,8,10],\n",
    "                'split_criterion' :[0, 1] # 0 or 'gini' for gini impurity; 1 or 'entropy' for information gain (entropy)\n",
    "                }\n",
    "\n",
    "xgb_params_grid = {'learning_rate': [0.001, 0.01, 0.1], #so called `eta` value\n",
    "              'max_depth': [5, 6, None],\n",
    "              'n_estimators': [5, 6, 7]}\n",
    "\n",
    "lr_params_grid = {'C': [0.1, 1, 10],\n",
    "              'penalty': ['l1', 'l2', None],\n",
    "              'max_iter': [100, 200, 300]}\n",
    "\n",
    "svm_params_grid = {'C': [0.1, 1, 10],\n",
    "              'gamma': [1, 0.1, 0.01],\n",
    "              'kernel': ['linear', 'poly', 'rbf', 'sigmoid']}\n",
    "knn_params_grid = {\"n_neighbors\": list(range(1, 10))}"
   ]
  },
  {
   "cell_type": "code",
   "execution_count": 28,
   "metadata": {
    "execution": {
     "iopub.execute_input": "2025-01-10T10:34:55.374702Z",
     "iopub.status.busy": "2025-01-10T10:34:55.374420Z",
     "iopub.status.idle": "2025-01-10T10:34:55.380087Z",
     "shell.execute_reply": "2025-01-10T10:34:55.379189Z",
     "shell.execute_reply.started": "2025-01-10T10:34:55.374679Z"
    },
    "trusted": true
   },
   "outputs": [],
   "source": [
    "rf_model = RandomForestClassifier()\n",
    "xgb_model = xgb.XGBClassifier(tree_method= 'gpu_hist')\n",
    "lr_model = LogisticRegression()\n",
    "svm_model = SVC()\n",
    "knn_model = NearestNeighbors()"
   ]
  },
  {
   "cell_type": "code",
   "execution_count": 39,
   "metadata": {
    "execution": {
     "iopub.execute_input": "2025-01-10T10:45:45.864075Z",
     "iopub.status.busy": "2025-01-10T10:45:45.863797Z",
     "iopub.status.idle": "2025-01-10T10:45:45.868877Z",
     "shell.execute_reply": "2025-01-10T10:45:45.867865Z",
     "shell.execute_reply.started": "2025-01-10T10:45:45.864053Z"
    },
    "trusted": true
   },
   "outputs": [],
   "source": [
    "rf_grid_search = GridSearchCV(rf_model, rf_params_grid, cv=ps, n_jobs=-1, scoring='accuracy')\n",
    "xgb_grid_search = GridSearchCV(xgb_model, xgb_params_grid, cv=ps, n_jobs=-1, scoring='accuracy')\n",
    "lr_grid_search = GridSearchCV(lr_model, lr_params_grid, cv=ps, n_jobs=-1, scoring='accuracy')\n",
    "svm_grid_search = GridSearchCV(svm_model, svm_params_grid, cv=ps, n_jobs=-1, scoring='accuracy')\n",
    "knn_grid_search = GridSearchCV(knn_model, knn_params_grid, cv=ps, n_jobs=-1, scoring='accuracy')"
   ]
  },
  {
   "cell_type": "markdown",
   "metadata": {},
   "source": [
    "## Random Forest"
   ]
  },
  {
   "cell_type": "code",
   "execution_count": 40,
   "metadata": {
    "execution": {
     "iopub.execute_input": "2025-01-10T10:45:47.395614Z",
     "iopub.status.busy": "2025-01-10T10:45:47.395316Z",
     "iopub.status.idle": "2025-01-10T10:47:11.899104Z",
     "shell.execute_reply": "2025-01-10T10:47:11.898266Z",
     "shell.execute_reply.started": "2025-01-10T10:45:47.395593Z"
    },
    "trusted": true
   },
   "outputs": [
    {
     "name": "stdout",
     "output_type": "stream",
     "text": [
      "Best model of Random Forest {'max_depth': 10, 'max_features': 'sqrt', 'n_estimators': 100, 'split_criterion': 1}\n",
      "Accuracy of Random Forest in Val Set is:  0.886777969679524\n",
      "Accuracy of Random Forest in Test Set is:  0.6516666666666666\n",
      "\n",
      "Classification Report of Random Forest in Test Set is:\n",
      "               precision    recall  f1-score   support\n",
      "\n",
      "    Doi song   0.447531  0.483333  0.464744       300\n",
      "   Phap luat   0.714667  0.893333  0.794074       300\n",
      "     Van hoa   0.489362  0.153333  0.233503       300\n",
      "    The thao   0.848571  0.990000  0.913846       300\n",
      "  Kinh doanh   0.660000  0.880000  0.754286       300\n",
      "    The gioi   0.892857  0.666667  0.763359       300\n",
      "    Khoa hoc   0.933333  0.186667  0.311111       300\n",
      "    Suc khoe   0.502618  0.960000  0.659794       300\n",
      "\n",
      "    accuracy                       0.651667      2400\n",
      "   macro avg   0.686117  0.651667  0.611839      2400\n",
      "weighted avg   0.686117  0.651667  0.611839      2400\n",
      "\n"
     ]
    }
   ],
   "source": [
    "rf_grid_search.fit(X_merge, y_merge)\n",
    "show_evaluation(rf_grid_search, 'Random Forest')"
   ]
  },
  {
   "cell_type": "markdown",
   "metadata": {},
   "source": [
    "## XGB"
   ]
  },
  {
   "cell_type": "code",
   "execution_count": 26,
   "metadata": {
    "execution": {
     "iopub.execute_input": "2025-01-10T10:30:40.135111Z",
     "iopub.status.busy": "2025-01-10T10:30:40.134767Z",
     "iopub.status.idle": "2025-01-10T10:34:11.571912Z",
     "shell.execute_reply": "2025-01-10T10:34:11.570944Z",
     "shell.execute_reply.started": "2025-01-10T10:30:40.135068Z"
    },
    "trusted": true
   },
   "outputs": [
    {
     "name": "stderr",
     "output_type": "stream",
     "text": [
      "/usr/local/lib/python3.10/dist-packages/joblib/externals/loky/process_executor.py:752: UserWarning: A worker stopped while some jobs were given to the executor. This can be caused by a too short worker timeout or by a memory leak.\n",
      "  warnings.warn(\n",
      "/usr/local/lib/python3.10/dist-packages/xgboost/core.py:160: UserWarning: [10:34:05] WARNING: /workspace/src/common/error_msg.cc:27: The tree method `gpu_hist` is deprecated since 2.0.0. To use GPU training, set the `device` parameter to CUDA instead.\n",
      "\n",
      "    E.g. tree_method = \"hist\", device = \"cuda\"\n",
      "\n",
      "  warnings.warn(smsg, UserWarning)\n"
     ]
    },
    {
     "name": "stdout",
     "output_type": "stream",
     "text": [
      "Best model of XGB {'learning_rate': 0.1, 'max_depth': 6, 'n_estimators': 7}\n"
     ]
    },
    {
     "name": "stderr",
     "output_type": "stream",
     "text": [
      "/usr/local/lib/python3.10/dist-packages/xgboost/core.py:160: UserWarning: [10:34:11] WARNING: /workspace/src/common/error_msg.cc:27: The tree method `gpu_hist` is deprecated since 2.0.0. To use GPU training, set the `device` parameter to CUDA instead.\n",
      "\n",
      "    E.g. tree_method = \"hist\", device = \"cuda\"\n",
      "\n",
      "  warnings.warn(smsg, UserWarning)\n",
      "/usr/local/lib/python3.10/dist-packages/xgboost/core.py:160: UserWarning: [10:34:11] WARNING: /workspace/src/common/error_msg.cc:58: Falling back to prediction using DMatrix due to mismatched devices. This might lead to higher memory usage and slower performance. XGBoost is running on: cuda:0, while the input data is on: cpu.\n",
      "Potential solutions:\n",
      "- Use a data structure that matches the device ordinal in the booster.\n",
      "- Set the device for booster before call to inplace_predict.\n",
      "\n",
      "This warning will only be shown once.\n",
      "\n",
      "  warnings.warn(smsg, UserWarning)\n"
     ]
    },
    {
     "name": "stdout",
     "output_type": "stream",
     "text": [
      "Accuracy of XGB in Val Set is:  0.8906160046056419\n",
      "Accuracy of XGB in Test Set is:  0.6779166666666666\n",
      "\n",
      "Classification Report of XGB in Test Set is:\n",
      "               precision    recall  f1-score   support\n",
      "\n",
      "    Doi song   0.456869  0.476667  0.466558       300\n",
      "   Phap luat   0.845878  0.786667  0.815199       300\n",
      "     Van hoa   0.426667  0.106667  0.170667       300\n",
      "    The thao   0.886503  0.963333  0.923323       300\n",
      "  Kinh doanh   0.663957  0.816667  0.732436       300\n",
      "    The gioi   0.625698  0.746667  0.680851       300\n",
      "    Khoa hoc   0.684015  0.613333  0.646749       300\n",
      "    Suc khoe   0.666667  0.913333  0.770745       300\n",
      "\n",
      "    accuracy                       0.677917      2400\n",
      "   macro avg   0.657032  0.677917  0.650816      2400\n",
      "weighted avg   0.657032  0.677917  0.650816      2400\n",
      "\n"
     ]
    }
   ],
   "source": [
    "xgb_grid_search.fit(X_merge, y_merge)\n",
    "show_evaluation(xgb_grid_search, 'XGB')"
   ]
  },
  {
   "cell_type": "markdown",
   "metadata": {},
   "source": [
    "## Logistic Regression"
   ]
  },
  {
   "cell_type": "code",
   "execution_count": 31,
   "metadata": {
    "execution": {
     "iopub.execute_input": "2025-01-10T10:36:09.153991Z",
     "iopub.status.busy": "2025-01-10T10:36:09.153694Z",
     "iopub.status.idle": "2025-01-10T10:36:58.376477Z",
     "shell.execute_reply": "2025-01-10T10:36:58.375525Z",
     "shell.execute_reply.started": "2025-01-10T10:36:09.153967Z"
    },
    "trusted": true
   },
   "outputs": [
    {
     "name": "stderr",
     "output_type": "stream",
     "text": [
      "Exception ignored in: <cyfunction RandomForestClassifier.__del__ at 0x7f5643d4b9f0>\n",
      "Traceback (most recent call last):\n",
      "  File \"randomforestclassifier.pyx\", line 317, in cuml.ensemble.randomforestclassifier.RandomForestClassifier.__del__\n",
      "  File \"randomforestclassifier.pyx\", line 321, in cuml.ensemble.randomforestclassifier.RandomForestClassifier._reset_forest_data\n",
      "  File \"base.pyx\", line 336, in cuml.internals.base.Base.__getattr__\n",
      "AttributeError: rf_forest\n"
     ]
    },
    {
     "name": "stdout",
     "output_type": "stream",
     "text": [
      "[W] [10:36:58.191192] L-BFGS: max iterations reached\n",
      "[W] [10:36:58.191690] Maximum iterations reached before solver is converged. To increase model accuracy you can increase the number of iterations (max_iter) or improve the scaling of the input data.\n",
      "Best model of Logistic Regression {'C': 10, 'max_iter': 100, 'penalty': 'l2'}\n",
      "Accuracy of Logistic Regression in Val Set is:  0.9967376703127998\n",
      "Accuracy of Logistic Regression in Test Set is:  0.7691666666666667\n",
      "\n",
      "Classification Report of Logistic Regression in Test Set is:\n",
      "               precision    recall  f1-score   support\n",
      "\n",
      "    Doi song   0.519403  0.580000  0.548031       300\n",
      "   Phap luat   0.924731  0.860000  0.891192       300\n",
      "     Van hoa   0.535211  0.126667  0.204852       300\n",
      "    The thao   0.960784  0.980000  0.970297       300\n",
      "  Kinh doanh   0.815789  0.930000  0.869159       300\n",
      "    The gioi   0.786145  0.870000  0.825949       300\n",
      "    Khoa hoc   0.722222  0.823333  0.769470       300\n",
      "    Suc khoe   0.750636  0.983333  0.851371       300\n",
      "\n",
      "    accuracy                       0.769167      2400\n",
      "   macro avg   0.751865  0.769167  0.741290      2400\n",
      "weighted avg   0.751865  0.769167  0.741290      2400\n",
      "\n"
     ]
    }
   ],
   "source": [
    "lr_grid_search.fit(X_merge, y_merge)\n",
    "show_evaluation(lr_grid_search, 'Logistic Regression')"
   ]
  },
  {
   "cell_type": "markdown",
   "metadata": {},
   "source": [
    "## SVM"
   ]
  },
  {
   "cell_type": "code",
   "execution_count": 32,
   "metadata": {
    "execution": {
     "iopub.execute_input": "2025-01-10T10:37:11.653504Z",
     "iopub.status.busy": "2025-01-10T10:37:11.653134Z",
     "iopub.status.idle": "2025-01-10T10:41:26.393134Z",
     "shell.execute_reply": "2025-01-10T10:41:26.392247Z",
     "shell.execute_reply.started": "2025-01-10T10:37:11.653477Z"
    },
    "trusted": true
   },
   "outputs": [
    {
     "name": "stderr",
     "output_type": "stream",
     "text": [
      "/usr/local/lib/python3.10/dist-packages/joblib/externals/loky/process_executor.py:752: UserWarning: A worker stopped while some jobs were given to the executor. This can be caused by a too short worker timeout or by a memory leak.\n",
      "  warnings.warn(\n"
     ]
    },
    {
     "name": "stdout",
     "output_type": "stream",
     "text": [
      "Best model of SVM {'C': 10, 'gamma': 1, 'kernel': 'rbf'}\n",
      "Accuracy of SVM in Val Set is:  0.9990404912684705\n",
      "Accuracy of SVM in Test Set is:  0.77125\n",
      "\n",
      "Classification Report of SVM in Test Set is:\n",
      "               precision    recall  f1-score   support\n",
      "\n",
      "    Doi song   0.508333  0.610000  0.554545       300\n",
      "   Phap luat   0.929630  0.836667  0.880702       300\n",
      "     Van hoa   0.622951  0.126667  0.210526       300\n",
      "    The thao   0.957929  0.986667  0.972085       300\n",
      "  Kinh doanh   0.818713  0.933333  0.872274       300\n",
      "    The gioi   0.781065  0.880000  0.827586       300\n",
      "    Khoa hoc   0.739521  0.823333  0.779180       300\n",
      "    Suc khoe   0.756477  0.973333  0.851312       300\n",
      "\n",
      "    accuracy                       0.771250      2400\n",
      "   macro avg   0.764327  0.771250  0.743526      2400\n",
      "weighted avg   0.764327  0.771250  0.743526      2400\n",
      "\n"
     ]
    }
   ],
   "source": [
    "svm_grid_search.fit(X_merge, y_merge)\n",
    "show_evaluation(svm_grid_search, 'SVM')"
   ]
  },
  {
   "cell_type": "markdown",
   "metadata": {},
   "source": [
    "## Neural Network"
   ]
  },
  {
   "cell_type": "code",
   "execution_count": 45,
   "metadata": {
    "execution": {
     "iopub.execute_input": "2025-01-10T10:56:53.573876Z",
     "iopub.status.busy": "2025-01-10T10:56:53.573579Z",
     "iopub.status.idle": "2025-01-10T10:57:00.623953Z",
     "shell.execute_reply": "2025-01-10T10:57:00.623248Z",
     "shell.execute_reply.started": "2025-01-10T10:56:53.573854Z"
    },
    "trusted": true
   },
   "outputs": [],
   "source": [
    "import tensorflow as tf\n",
    "from tensorflow import keras\n",
    "from tensorflow.keras import layers\n",
    "from sklearn.preprocessing import LabelBinarizer"
   ]
  },
  {
   "cell_type": "code",
   "execution_count": 50,
   "metadata": {
    "execution": {
     "iopub.execute_input": "2025-01-10T11:04:33.109279Z",
     "iopub.status.busy": "2025-01-10T11:04:33.108856Z",
     "iopub.status.idle": "2025-01-10T11:04:33.121568Z",
     "shell.execute_reply": "2025-01-10T11:04:33.120759Z",
     "shell.execute_reply.started": "2025-01-10T11:04:33.109242Z"
    },
    "trusted": true
   },
   "outputs": [],
   "source": [
    "lb = LabelBinarizer()\n",
    "lb.fit(y_train)\n",
    "\n",
    "y_train_oh = lb.transform(y_train)\n",
    "y_val_oh = lb.transform(y_val)\n",
    "y_test_oh = lb.transform(y_test)"
   ]
  },
  {
   "cell_type": "code",
   "execution_count": 129,
   "metadata": {
    "execution": {
     "iopub.execute_input": "2025-01-10T12:17:54.849872Z",
     "iopub.status.busy": "2025-01-10T12:17:54.849572Z",
     "iopub.status.idle": "2025-01-10T12:17:54.925669Z",
     "shell.execute_reply": "2025-01-10T12:17:54.924805Z",
     "shell.execute_reply.started": "2025-01-10T12:17:54.849848Z"
    },
    "trusted": true
   },
   "outputs": [
    {
     "name": "stderr",
     "output_type": "stream",
     "text": [
      "/usr/local/lib/python3.10/dist-packages/keras/src/layers/core/dense.py:87: UserWarning: Do not pass an `input_shape`/`input_dim` argument to a layer. When using Sequential models, prefer using an `Input(shape)` object as the first layer in the model instead.\n",
      "  super().__init__(activity_regularizer=activity_regularizer, **kwargs)\n"
     ]
    },
    {
     "data": {
      "text/html": [
       "<pre style=\"white-space:pre;overflow-x:auto;line-height:normal;font-family:Menlo,'DejaVu Sans Mono',consolas,'Courier New',monospace\"><span style=\"font-weight: bold\">Model: \"sequential_21\"</span>\n",
       "</pre>\n"
      ],
      "text/plain": [
       "\u001b[1mModel: \"sequential_21\"\u001b[0m\n"
      ]
     },
     "metadata": {},
     "output_type": "display_data"
    },
    {
     "data": {
      "text/html": [
       "<pre style=\"white-space:pre;overflow-x:auto;line-height:normal;font-family:Menlo,'DejaVu Sans Mono',consolas,'Courier New',monospace\">┏━━━━━━━━━━━━━━━━━━━━━━━━━━━━━━━━━━━━━━┳━━━━━━━━━━━━━━━━━━━━━━━━━━━━━┳━━━━━━━━━━━━━━━━━┓\n",
       "┃<span style=\"font-weight: bold\"> Layer (type)                         </span>┃<span style=\"font-weight: bold\"> Output Shape                </span>┃<span style=\"font-weight: bold\">         Param # </span>┃\n",
       "┡━━━━━━━━━━━━━━━━━━━━━━━━━━━━━━━━━━━━━━╇━━━━━━━━━━━━━━━━━━━━━━━━━━━━━╇━━━━━━━━━━━━━━━━━┩\n",
       "│ dense_109 (<span style=\"color: #0087ff; text-decoration-color: #0087ff\">Dense</span>)                    │ (<span style=\"color: #00d7ff; text-decoration-color: #00d7ff\">None</span>, <span style=\"color: #00af00; text-decoration-color: #00af00\">512</span>)                 │       <span style=\"color: #00af00; text-decoration-color: #00af00\">2,560,512</span> │\n",
       "├──────────────────────────────────────┼─────────────────────────────┼─────────────────┤\n",
       "│ dropout_74 (<span style=\"color: #0087ff; text-decoration-color: #0087ff\">Dropout</span>)                 │ (<span style=\"color: #00d7ff; text-decoration-color: #00d7ff\">None</span>, <span style=\"color: #00af00; text-decoration-color: #00af00\">512</span>)                 │               <span style=\"color: #00af00; text-decoration-color: #00af00\">0</span> │\n",
       "├──────────────────────────────────────┼─────────────────────────────┼─────────────────┤\n",
       "│ dense_110 (<span style=\"color: #0087ff; text-decoration-color: #0087ff\">Dense</span>)                    │ (<span style=\"color: #00d7ff; text-decoration-color: #00d7ff\">None</span>, <span style=\"color: #00af00; text-decoration-color: #00af00\">256</span>)                 │         <span style=\"color: #00af00; text-decoration-color: #00af00\">131,328</span> │\n",
       "├──────────────────────────────────────┼─────────────────────────────┼─────────────────┤\n",
       "│ dropout_75 (<span style=\"color: #0087ff; text-decoration-color: #0087ff\">Dropout</span>)                 │ (<span style=\"color: #00d7ff; text-decoration-color: #00d7ff\">None</span>, <span style=\"color: #00af00; text-decoration-color: #00af00\">256</span>)                 │               <span style=\"color: #00af00; text-decoration-color: #00af00\">0</span> │\n",
       "├──────────────────────────────────────┼─────────────────────────────┼─────────────────┤\n",
       "│ dense_111 (<span style=\"color: #0087ff; text-decoration-color: #0087ff\">Dense</span>)                    │ (<span style=\"color: #00d7ff; text-decoration-color: #00d7ff\">None</span>, <span style=\"color: #00af00; text-decoration-color: #00af00\">128</span>)                 │          <span style=\"color: #00af00; text-decoration-color: #00af00\">32,896</span> │\n",
       "├──────────────────────────────────────┼─────────────────────────────┼─────────────────┤\n",
       "│ dropout_76 (<span style=\"color: #0087ff; text-decoration-color: #0087ff\">Dropout</span>)                 │ (<span style=\"color: #00d7ff; text-decoration-color: #00d7ff\">None</span>, <span style=\"color: #00af00; text-decoration-color: #00af00\">128</span>)                 │               <span style=\"color: #00af00; text-decoration-color: #00af00\">0</span> │\n",
       "├──────────────────────────────────────┼─────────────────────────────┼─────────────────┤\n",
       "│ dense_112 (<span style=\"color: #0087ff; text-decoration-color: #0087ff\">Dense</span>)                    │ (<span style=\"color: #00d7ff; text-decoration-color: #00d7ff\">None</span>, <span style=\"color: #00af00; text-decoration-color: #00af00\">64</span>)                  │           <span style=\"color: #00af00; text-decoration-color: #00af00\">8,256</span> │\n",
       "├──────────────────────────────────────┼─────────────────────────────┼─────────────────┤\n",
       "│ dropout_77 (<span style=\"color: #0087ff; text-decoration-color: #0087ff\">Dropout</span>)                 │ (<span style=\"color: #00d7ff; text-decoration-color: #00d7ff\">None</span>, <span style=\"color: #00af00; text-decoration-color: #00af00\">64</span>)                  │               <span style=\"color: #00af00; text-decoration-color: #00af00\">0</span> │\n",
       "├──────────────────────────────────────┼─────────────────────────────┼─────────────────┤\n",
       "│ dense_113 (<span style=\"color: #0087ff; text-decoration-color: #0087ff\">Dense</span>)                    │ (<span style=\"color: #00d7ff; text-decoration-color: #00d7ff\">None</span>, <span style=\"color: #00af00; text-decoration-color: #00af00\">32</span>)                  │           <span style=\"color: #00af00; text-decoration-color: #00af00\">2,080</span> │\n",
       "├──────────────────────────────────────┼─────────────────────────────┼─────────────────┤\n",
       "│ dropout_78 (<span style=\"color: #0087ff; text-decoration-color: #0087ff\">Dropout</span>)                 │ (<span style=\"color: #00d7ff; text-decoration-color: #00d7ff\">None</span>, <span style=\"color: #00af00; text-decoration-color: #00af00\">32</span>)                  │               <span style=\"color: #00af00; text-decoration-color: #00af00\">0</span> │\n",
       "├──────────────────────────────────────┼─────────────────────────────┼─────────────────┤\n",
       "│ dense_114 (<span style=\"color: #0087ff; text-decoration-color: #0087ff\">Dense</span>)                    │ (<span style=\"color: #00d7ff; text-decoration-color: #00d7ff\">None</span>, <span style=\"color: #00af00; text-decoration-color: #00af00\">8</span>)                   │             <span style=\"color: #00af00; text-decoration-color: #00af00\">264</span> │\n",
       "└──────────────────────────────────────┴─────────────────────────────┴─────────────────┘\n",
       "</pre>\n"
      ],
      "text/plain": [
       "┏━━━━━━━━━━━━━━━━━━━━━━━━━━━━━━━━━━━━━━┳━━━━━━━━━━━━━━━━━━━━━━━━━━━━━┳━━━━━━━━━━━━━━━━━┓\n",
       "┃\u001b[1m \u001b[0m\u001b[1mLayer (type)                        \u001b[0m\u001b[1m \u001b[0m┃\u001b[1m \u001b[0m\u001b[1mOutput Shape               \u001b[0m\u001b[1m \u001b[0m┃\u001b[1m \u001b[0m\u001b[1m        Param #\u001b[0m\u001b[1m \u001b[0m┃\n",
       "┡━━━━━━━━━━━━━━━━━━━━━━━━━━━━━━━━━━━━━━╇━━━━━━━━━━━━━━━━━━━━━━━━━━━━━╇━━━━━━━━━━━━━━━━━┩\n",
       "│ dense_109 (\u001b[38;5;33mDense\u001b[0m)                    │ (\u001b[38;5;45mNone\u001b[0m, \u001b[38;5;34m512\u001b[0m)                 │       \u001b[38;5;34m2,560,512\u001b[0m │\n",
       "├──────────────────────────────────────┼─────────────────────────────┼─────────────────┤\n",
       "│ dropout_74 (\u001b[38;5;33mDropout\u001b[0m)                 │ (\u001b[38;5;45mNone\u001b[0m, \u001b[38;5;34m512\u001b[0m)                 │               \u001b[38;5;34m0\u001b[0m │\n",
       "├──────────────────────────────────────┼─────────────────────────────┼─────────────────┤\n",
       "│ dense_110 (\u001b[38;5;33mDense\u001b[0m)                    │ (\u001b[38;5;45mNone\u001b[0m, \u001b[38;5;34m256\u001b[0m)                 │         \u001b[38;5;34m131,328\u001b[0m │\n",
       "├──────────────────────────────────────┼─────────────────────────────┼─────────────────┤\n",
       "│ dropout_75 (\u001b[38;5;33mDropout\u001b[0m)                 │ (\u001b[38;5;45mNone\u001b[0m, \u001b[38;5;34m256\u001b[0m)                 │               \u001b[38;5;34m0\u001b[0m │\n",
       "├──────────────────────────────────────┼─────────────────────────────┼─────────────────┤\n",
       "│ dense_111 (\u001b[38;5;33mDense\u001b[0m)                    │ (\u001b[38;5;45mNone\u001b[0m, \u001b[38;5;34m128\u001b[0m)                 │          \u001b[38;5;34m32,896\u001b[0m │\n",
       "├──────────────────────────────────────┼─────────────────────────────┼─────────────────┤\n",
       "│ dropout_76 (\u001b[38;5;33mDropout\u001b[0m)                 │ (\u001b[38;5;45mNone\u001b[0m, \u001b[38;5;34m128\u001b[0m)                 │               \u001b[38;5;34m0\u001b[0m │\n",
       "├──────────────────────────────────────┼─────────────────────────────┼─────────────────┤\n",
       "│ dense_112 (\u001b[38;5;33mDense\u001b[0m)                    │ (\u001b[38;5;45mNone\u001b[0m, \u001b[38;5;34m64\u001b[0m)                  │           \u001b[38;5;34m8,256\u001b[0m │\n",
       "├──────────────────────────────────────┼─────────────────────────────┼─────────────────┤\n",
       "│ dropout_77 (\u001b[38;5;33mDropout\u001b[0m)                 │ (\u001b[38;5;45mNone\u001b[0m, \u001b[38;5;34m64\u001b[0m)                  │               \u001b[38;5;34m0\u001b[0m │\n",
       "├──────────────────────────────────────┼─────────────────────────────┼─────────────────┤\n",
       "│ dense_113 (\u001b[38;5;33mDense\u001b[0m)                    │ (\u001b[38;5;45mNone\u001b[0m, \u001b[38;5;34m32\u001b[0m)                  │           \u001b[38;5;34m2,080\u001b[0m │\n",
       "├──────────────────────────────────────┼─────────────────────────────┼─────────────────┤\n",
       "│ dropout_78 (\u001b[38;5;33mDropout\u001b[0m)                 │ (\u001b[38;5;45mNone\u001b[0m, \u001b[38;5;34m32\u001b[0m)                  │               \u001b[38;5;34m0\u001b[0m │\n",
       "├──────────────────────────────────────┼─────────────────────────────┼─────────────────┤\n",
       "│ dense_114 (\u001b[38;5;33mDense\u001b[0m)                    │ (\u001b[38;5;45mNone\u001b[0m, \u001b[38;5;34m8\u001b[0m)                   │             \u001b[38;5;34m264\u001b[0m │\n",
       "└──────────────────────────────────────┴─────────────────────────────┴─────────────────┘\n"
      ]
     },
     "metadata": {},
     "output_type": "display_data"
    },
    {
     "data": {
      "text/html": [
       "<pre style=\"white-space:pre;overflow-x:auto;line-height:normal;font-family:Menlo,'DejaVu Sans Mono',consolas,'Courier New',monospace\"><span style=\"font-weight: bold\"> Total params: </span><span style=\"color: #00af00; text-decoration-color: #00af00\">2,735,336</span> (10.43 MB)\n",
       "</pre>\n"
      ],
      "text/plain": [
       "\u001b[1m Total params: \u001b[0m\u001b[38;5;34m2,735,336\u001b[0m (10.43 MB)\n"
      ]
     },
     "metadata": {},
     "output_type": "display_data"
    },
    {
     "data": {
      "text/html": [
       "<pre style=\"white-space:pre;overflow-x:auto;line-height:normal;font-family:Menlo,'DejaVu Sans Mono',consolas,'Courier New',monospace\"><span style=\"font-weight: bold\"> Trainable params: </span><span style=\"color: #00af00; text-decoration-color: #00af00\">2,735,336</span> (10.43 MB)\n",
       "</pre>\n"
      ],
      "text/plain": [
       "\u001b[1m Trainable params: \u001b[0m\u001b[38;5;34m2,735,336\u001b[0m (10.43 MB)\n"
      ]
     },
     "metadata": {},
     "output_type": "display_data"
    },
    {
     "data": {
      "text/html": [
       "<pre style=\"white-space:pre;overflow-x:auto;line-height:normal;font-family:Menlo,'DejaVu Sans Mono',consolas,'Courier New',monospace\"><span style=\"font-weight: bold\"> Non-trainable params: </span><span style=\"color: #00af00; text-decoration-color: #00af00\">0</span> (0.00 B)\n",
       "</pre>\n"
      ],
      "text/plain": [
       "\u001b[1m Non-trainable params: \u001b[0m\u001b[38;5;34m0\u001b[0m (0.00 B)\n"
      ]
     },
     "metadata": {},
     "output_type": "display_data"
    }
   ],
   "source": [
    "nn_model = keras.Sequential([\n",
    "            layers.Dense(512, activation='relu', input_shape=(X_train.shape[1],)), # input shape has to be specified on the first layer only\n",
    "            layers.Dropout(0.2),\n",
    "            layers.Dense(256, activation='relu'),\n",
    "            layers.Dropout(0.2),\n",
    "            layers.Dense(128, activation='relu'),\n",
    "            layers.Dropout(0.2),\n",
    "            layers.Dense(64, activation='relu'),\n",
    "            layers.Dropout(0.2),\n",
    "            layers.Dense(32, activation='relu'),\n",
    "            layers.Dropout(0.2),\n",
    "            # Output Layer (Sigmoid for binary classification)\n",
    "            layers.Dense(len(class_to_number.keys()), activation='softmax')\n",
    "            ])\n",
    "\n",
    "\n",
    "# Compile the model\n",
    "nn_model.compile(optimizer=keras.optimizers.Adam(learning_rate=1e-4),\n",
    "          loss='categorical_crossentropy',\n",
    "          metrics=['accuracy'])\n",
    "\n",
    "\n",
    "my_callbacks = [\n",
    "                keras.callbacks.EarlyStopping(monitor=\"val_loss\", patience=100,\n",
    "                              mode=\"min\", restore_best_weights=True)\n",
    "                ]\n",
    "nn_model.summary()"
   ]
  },
  {
   "cell_type": "code",
   "execution_count": 130,
   "metadata": {
    "execution": {
     "iopub.execute_input": "2025-01-10T12:17:58.241012Z",
     "iopub.status.busy": "2025-01-10T12:17:58.240691Z",
     "iopub.status.idle": "2025-01-10T12:19:48.369748Z",
     "shell.execute_reply": "2025-01-10T12:19:48.368884Z",
     "shell.execute_reply.started": "2025-01-10T12:17:58.240981Z"
    },
    "trusted": true
   },
   "outputs": [
    {
     "name": "stdout",
     "output_type": "stream",
     "text": [
      "Epoch 1/500\n",
      "326/326 - 11s - 35ms/step - accuracy: 0.4911 - loss: 1.4801 - val_accuracy: 0.8645 - val_loss: 0.5549\n",
      "Epoch 2/500\n",
      "326/326 - 1s - 3ms/step - accuracy: 0.8395 - loss: 0.5303 - val_accuracy: 0.9115 - val_loss: 0.2962\n",
      "Epoch 3/500\n",
      "326/326 - 1s - 3ms/step - accuracy: 0.9107 - loss: 0.3128 - val_accuracy: 0.9378 - val_loss: 0.2208\n",
      "Epoch 4/500\n",
      "326/326 - 1s - 3ms/step - accuracy: 0.9415 - loss: 0.2197 - val_accuracy: 0.9457 - val_loss: 0.1962\n",
      "Epoch 5/500\n",
      "326/326 - 1s - 3ms/step - accuracy: 0.9593 - loss: 0.1524 - val_accuracy: 0.9432 - val_loss: 0.2046\n",
      "Epoch 6/500\n",
      "326/326 - 1s - 3ms/step - accuracy: 0.9685 - loss: 0.1182 - val_accuracy: 0.9478 - val_loss: 0.2069\n",
      "Epoch 7/500\n",
      "326/326 - 1s - 3ms/step - accuracy: 0.9766 - loss: 0.0944 - val_accuracy: 0.9495 - val_loss: 0.2139\n",
      "Epoch 8/500\n",
      "326/326 - 1s - 3ms/step - accuracy: 0.9811 - loss: 0.0760 - val_accuracy: 0.9449 - val_loss: 0.2301\n",
      "Epoch 9/500\n",
      "326/326 - 1s - 3ms/step - accuracy: 0.9847 - loss: 0.0596 - val_accuracy: 0.9465 - val_loss: 0.2460\n",
      "Epoch 10/500\n",
      "326/326 - 1s - 3ms/step - accuracy: 0.9879 - loss: 0.0489 - val_accuracy: 0.9445 - val_loss: 0.2550\n",
      "Epoch 11/500\n",
      "326/326 - 1s - 3ms/step - accuracy: 0.9912 - loss: 0.0387 - val_accuracy: 0.9457 - val_loss: 0.2725\n",
      "Epoch 12/500\n",
      "326/326 - 1s - 3ms/step - accuracy: 0.9913 - loss: 0.0341 - val_accuracy: 0.9438 - val_loss: 0.2819\n",
      "Epoch 13/500\n",
      "326/326 - 1s - 3ms/step - accuracy: 0.9928 - loss: 0.0295 - val_accuracy: 0.9440 - val_loss: 0.2917\n",
      "Epoch 14/500\n",
      "326/326 - 1s - 3ms/step - accuracy: 0.9939 - loss: 0.0267 - val_accuracy: 0.9420 - val_loss: 0.3121\n",
      "Epoch 15/500\n",
      "326/326 - 1s - 3ms/step - accuracy: 0.9949 - loss: 0.0221 - val_accuracy: 0.9440 - val_loss: 0.3174\n",
      "Epoch 16/500\n",
      "326/326 - 1s - 3ms/step - accuracy: 0.9959 - loss: 0.0180 - val_accuracy: 0.9436 - val_loss: 0.3237\n",
      "Epoch 17/500\n",
      "326/326 - 1s - 3ms/step - accuracy: 0.9954 - loss: 0.0187 - val_accuracy: 0.9434 - val_loss: 0.3411\n",
      "Epoch 18/500\n",
      "326/326 - 1s - 3ms/step - accuracy: 0.9965 - loss: 0.0163 - val_accuracy: 0.9434 - val_loss: 0.3448\n",
      "Epoch 19/500\n",
      "326/326 - 1s - 3ms/step - accuracy: 0.9961 - loss: 0.0157 - val_accuracy: 0.9411 - val_loss: 0.3604\n",
      "Epoch 20/500\n",
      "326/326 - 1s - 3ms/step - accuracy: 0.9959 - loss: 0.0158 - val_accuracy: 0.9445 - val_loss: 0.3577\n",
      "Epoch 21/500\n",
      "326/326 - 1s - 3ms/step - accuracy: 0.9966 - loss: 0.0147 - val_accuracy: 0.9449 - val_loss: 0.3688\n",
      "Epoch 22/500\n",
      "326/326 - 1s - 3ms/step - accuracy: 0.9969 - loss: 0.0123 - val_accuracy: 0.9438 - val_loss: 0.3895\n",
      "Epoch 23/500\n",
      "326/326 - 1s - 3ms/step - accuracy: 0.9965 - loss: 0.0140 - val_accuracy: 0.9430 - val_loss: 0.3779\n",
      "Epoch 24/500\n",
      "326/326 - 1s - 3ms/step - accuracy: 0.9966 - loss: 0.0134 - val_accuracy: 0.9420 - val_loss: 0.3884\n",
      "Epoch 25/500\n",
      "326/326 - 1s - 3ms/step - accuracy: 0.9971 - loss: 0.0132 - val_accuracy: 0.9417 - val_loss: 0.3876\n",
      "Epoch 26/500\n",
      "326/326 - 1s - 3ms/step - accuracy: 0.9971 - loss: 0.0118 - val_accuracy: 0.9436 - val_loss: 0.3955\n",
      "Epoch 27/500\n",
      "326/326 - 1s - 3ms/step - accuracy: 0.9973 - loss: 0.0115 - val_accuracy: 0.9443 - val_loss: 0.3923\n",
      "Epoch 28/500\n",
      "326/326 - 1s - 3ms/step - accuracy: 0.9972 - loss: 0.0112 - val_accuracy: 0.9443 - val_loss: 0.3913\n",
      "Epoch 29/500\n",
      "326/326 - 1s - 3ms/step - accuracy: 0.9977 - loss: 0.0100 - val_accuracy: 0.9461 - val_loss: 0.4034\n",
      "Epoch 30/500\n",
      "326/326 - 1s - 3ms/step - accuracy: 0.9978 - loss: 0.0087 - val_accuracy: 0.9440 - val_loss: 0.4217\n",
      "Epoch 31/500\n",
      "326/326 - 1s - 3ms/step - accuracy: 0.9975 - loss: 0.0084 - val_accuracy: 0.9436 - val_loss: 0.4457\n",
      "Epoch 32/500\n",
      "326/326 - 1s - 3ms/step - accuracy: 0.9974 - loss: 0.0091 - val_accuracy: 0.9426 - val_loss: 0.4627\n",
      "Epoch 33/500\n",
      "326/326 - 1s - 3ms/step - accuracy: 0.9974 - loss: 0.0097 - val_accuracy: 0.9422 - val_loss: 0.4366\n",
      "Epoch 34/500\n",
      "326/326 - 1s - 3ms/step - accuracy: 0.9975 - loss: 0.0086 - val_accuracy: 0.9426 - val_loss: 0.4484\n",
      "Epoch 35/500\n",
      "326/326 - 1s - 3ms/step - accuracy: 0.9978 - loss: 0.0074 - val_accuracy: 0.9413 - val_loss: 0.4671\n",
      "Epoch 36/500\n",
      "326/326 - 1s - 3ms/step - accuracy: 0.9976 - loss: 0.0080 - val_accuracy: 0.9415 - val_loss: 0.4694\n",
      "Epoch 37/500\n",
      "326/326 - 1s - 3ms/step - accuracy: 0.9978 - loss: 0.0075 - val_accuracy: 0.9407 - val_loss: 0.4896\n",
      "Epoch 38/500\n",
      "326/326 - 1s - 3ms/step - accuracy: 0.9973 - loss: 0.0073 - val_accuracy: 0.9422 - val_loss: 0.4893\n",
      "Epoch 39/500\n",
      "326/326 - 1s - 3ms/step - accuracy: 0.9975 - loss: 0.0082 - val_accuracy: 0.9411 - val_loss: 0.4859\n",
      "Epoch 40/500\n",
      "326/326 - 1s - 3ms/step - accuracy: 0.9978 - loss: 0.0072 - val_accuracy: 0.9407 - val_loss: 0.4814\n",
      "Epoch 41/500\n",
      "326/326 - 1s - 3ms/step - accuracy: 0.9982 - loss: 0.0053 - val_accuracy: 0.9417 - val_loss: 0.5115\n",
      "Epoch 42/500\n",
      "326/326 - 1s - 3ms/step - accuracy: 0.9976 - loss: 0.0063 - val_accuracy: 0.9411 - val_loss: 0.5160\n",
      "Epoch 43/500\n",
      "326/326 - 1s - 3ms/step - accuracy: 0.9977 - loss: 0.0070 - val_accuracy: 0.9382 - val_loss: 0.5259\n",
      "Epoch 44/500\n",
      "326/326 - 1s - 3ms/step - accuracy: 0.9982 - loss: 0.0054 - val_accuracy: 0.9396 - val_loss: 0.5556\n",
      "Epoch 45/500\n",
      "326/326 - 1s - 3ms/step - accuracy: 0.9976 - loss: 0.0064 - val_accuracy: 0.9392 - val_loss: 0.5530\n",
      "Epoch 46/500\n",
      "326/326 - 1s - 3ms/step - accuracy: 0.9976 - loss: 0.0057 - val_accuracy: 0.9420 - val_loss: 0.5380\n",
      "Epoch 47/500\n",
      "326/326 - 1s - 3ms/step - accuracy: 0.9979 - loss: 0.0047 - val_accuracy: 0.9407 - val_loss: 0.5575\n",
      "Epoch 48/500\n",
      "326/326 - 1s - 3ms/step - accuracy: 0.9976 - loss: 0.0063 - val_accuracy: 0.9420 - val_loss: 0.5523\n",
      "Epoch 49/500\n",
      "326/326 - 1s - 3ms/step - accuracy: 0.9979 - loss: 0.0053 - val_accuracy: 0.9426 - val_loss: 0.5562\n",
      "Epoch 50/500\n",
      "326/326 - 1s - 3ms/step - accuracy: 0.9980 - loss: 0.0056 - val_accuracy: 0.9413 - val_loss: 0.5771\n",
      "Epoch 51/500\n",
      "326/326 - 1s - 3ms/step - accuracy: 0.9982 - loss: 0.0045 - val_accuracy: 0.9417 - val_loss: 0.5783\n",
      "Epoch 52/500\n",
      "326/326 - 1s - 3ms/step - accuracy: 0.9982 - loss: 0.0048 - val_accuracy: 0.9405 - val_loss: 0.5801\n",
      "Epoch 53/500\n",
      "326/326 - 1s - 3ms/step - accuracy: 0.9979 - loss: 0.0051 - val_accuracy: 0.9407 - val_loss: 0.6037\n",
      "Epoch 54/500\n",
      "326/326 - 1s - 3ms/step - accuracy: 0.9977 - loss: 0.0046 - val_accuracy: 0.9392 - val_loss: 0.5976\n",
      "Epoch 55/500\n",
      "326/326 - 1s - 3ms/step - accuracy: 0.9978 - loss: 0.0051 - val_accuracy: 0.9411 - val_loss: 0.5897\n",
      "Epoch 56/500\n",
      "326/326 - 1s - 3ms/step - accuracy: 0.9981 - loss: 0.0044 - val_accuracy: 0.9428 - val_loss: 0.5775\n",
      "Epoch 57/500\n",
      "326/326 - 1s - 3ms/step - accuracy: 0.9979 - loss: 0.0045 - val_accuracy: 0.9413 - val_loss: 0.6108\n",
      "Epoch 58/500\n",
      "326/326 - 1s - 3ms/step - accuracy: 0.9979 - loss: 0.0052 - val_accuracy: 0.9419 - val_loss: 0.5990\n",
      "Epoch 59/500\n",
      "326/326 - 1s - 3ms/step - accuracy: 0.9980 - loss: 0.0043 - val_accuracy: 0.9434 - val_loss: 0.5970\n",
      "Epoch 60/500\n",
      "326/326 - 1s - 3ms/step - accuracy: 0.9980 - loss: 0.0049 - val_accuracy: 0.9419 - val_loss: 0.6218\n",
      "Epoch 61/500\n",
      "326/326 - 1s - 3ms/step - accuracy: 0.9981 - loss: 0.0044 - val_accuracy: 0.9428 - val_loss: 0.6214\n",
      "Epoch 62/500\n",
      "326/326 - 1s - 3ms/step - accuracy: 0.9981 - loss: 0.0041 - val_accuracy: 0.9415 - val_loss: 0.6248\n",
      "Epoch 63/500\n",
      "326/326 - 1s - 3ms/step - accuracy: 0.9976 - loss: 0.0049 - val_accuracy: 0.9415 - val_loss: 0.6278\n",
      "Epoch 64/500\n",
      "326/326 - 1s - 3ms/step - accuracy: 0.9982 - loss: 0.0038 - val_accuracy: 0.9430 - val_loss: 0.6365\n",
      "Epoch 65/500\n",
      "326/326 - 1s - 3ms/step - accuracy: 0.9981 - loss: 0.0042 - val_accuracy: 0.9392 - val_loss: 0.6616\n",
      "Epoch 66/500\n",
      "326/326 - 1s - 3ms/step - accuracy: 0.9982 - loss: 0.0045 - val_accuracy: 0.9417 - val_loss: 0.6342\n",
      "Epoch 67/500\n",
      "326/326 - 1s - 3ms/step - accuracy: 0.9978 - loss: 0.0046 - val_accuracy: 0.9420 - val_loss: 0.6573\n",
      "Epoch 68/500\n",
      "326/326 - 1s - 3ms/step - accuracy: 0.9981 - loss: 0.0038 - val_accuracy: 0.9401 - val_loss: 0.6745\n",
      "Epoch 69/500\n",
      "326/326 - 1s - 3ms/step - accuracy: 0.9982 - loss: 0.0035 - val_accuracy: 0.9411 - val_loss: 0.6805\n",
      "Epoch 70/500\n",
      "326/326 - 1s - 3ms/step - accuracy: 0.9978 - loss: 0.0040 - val_accuracy: 0.9409 - val_loss: 0.6680\n",
      "Epoch 71/500\n",
      "326/326 - 1s - 3ms/step - accuracy: 0.9983 - loss: 0.0044 - val_accuracy: 0.9407 - val_loss: 0.6619\n",
      "Epoch 72/500\n",
      "326/326 - 1s - 3ms/step - accuracy: 0.9983 - loss: 0.0038 - val_accuracy: 0.9403 - val_loss: 0.6835\n",
      "Epoch 73/500\n",
      "326/326 - 1s - 3ms/step - accuracy: 0.9983 - loss: 0.0040 - val_accuracy: 0.9409 - val_loss: 0.6907\n",
      "Epoch 74/500\n",
      "326/326 - 1s - 3ms/step - accuracy: 0.9983 - loss: 0.0034 - val_accuracy: 0.9420 - val_loss: 0.7142\n",
      "Epoch 75/500\n",
      "326/326 - 1s - 3ms/step - accuracy: 0.9977 - loss: 0.0040 - val_accuracy: 0.9388 - val_loss: 0.7254\n",
      "Epoch 76/500\n",
      "326/326 - 1s - 3ms/step - accuracy: 0.9982 - loss: 0.0038 - val_accuracy: 0.9417 - val_loss: 0.7012\n",
      "Epoch 77/500\n",
      "326/326 - 1s - 3ms/step - accuracy: 0.9982 - loss: 0.0036 - val_accuracy: 0.9413 - val_loss: 0.7038\n",
      "Epoch 78/500\n",
      "326/326 - 1s - 3ms/step - accuracy: 0.9978 - loss: 0.0039 - val_accuracy: 0.9428 - val_loss: 0.7165\n",
      "Epoch 79/500\n",
      "326/326 - 1s - 3ms/step - accuracy: 0.9984 - loss: 0.0037 - val_accuracy: 0.9430 - val_loss: 0.7086\n",
      "Epoch 80/500\n",
      "326/326 - 1s - 3ms/step - accuracy: 0.9986 - loss: 0.0030 - val_accuracy: 0.9405 - val_loss: 0.7172\n",
      "Epoch 81/500\n",
      "326/326 - 1s - 3ms/step - accuracy: 0.9984 - loss: 0.0032 - val_accuracy: 0.9424 - val_loss: 0.7198\n",
      "Epoch 82/500\n",
      "326/326 - 1s - 3ms/step - accuracy: 0.9979 - loss: 0.0043 - val_accuracy: 0.9428 - val_loss: 0.7104\n",
      "Epoch 83/500\n",
      "326/326 - 1s - 3ms/step - accuracy: 0.9978 - loss: 0.0044 - val_accuracy: 0.9430 - val_loss: 0.7019\n",
      "Epoch 84/500\n",
      "326/326 - 1s - 3ms/step - accuracy: 0.9982 - loss: 0.0031 - val_accuracy: 0.9420 - val_loss: 0.7200\n",
      "Epoch 85/500\n",
      "326/326 - 1s - 3ms/step - accuracy: 0.9985 - loss: 0.0033 - val_accuracy: 0.9424 - val_loss: 0.7335\n",
      "Epoch 86/500\n",
      "326/326 - 1s - 3ms/step - accuracy: 0.9983 - loss: 0.0033 - val_accuracy: 0.9438 - val_loss: 0.7524\n",
      "Epoch 87/500\n",
      "326/326 - 1s - 3ms/step - accuracy: 0.9981 - loss: 0.0033 - val_accuracy: 0.9420 - val_loss: 0.7775\n",
      "Epoch 88/500\n",
      "326/326 - 1s - 3ms/step - accuracy: 0.9978 - loss: 0.0037 - val_accuracy: 0.9426 - val_loss: 0.7492\n",
      "Epoch 89/500\n",
      "326/326 - 1s - 3ms/step - accuracy: 0.9983 - loss: 0.0031 - val_accuracy: 0.9401 - val_loss: 0.7603\n",
      "Epoch 90/500\n",
      "326/326 - 1s - 3ms/step - accuracy: 0.9986 - loss: 0.0034 - val_accuracy: 0.9411 - val_loss: 0.7612\n",
      "Epoch 91/500\n",
      "326/326 - 1s - 3ms/step - accuracy: 0.9982 - loss: 0.0029 - val_accuracy: 0.9403 - val_loss: 0.7889\n",
      "Epoch 92/500\n",
      "326/326 - 1s - 3ms/step - accuracy: 0.9984 - loss: 0.0036 - val_accuracy: 0.9411 - val_loss: 0.7900\n",
      "Epoch 93/500\n",
      "326/326 - 1s - 3ms/step - accuracy: 0.9982 - loss: 0.0035 - val_accuracy: 0.9374 - val_loss: 0.8232\n",
      "Epoch 94/500\n",
      "326/326 - 1s - 3ms/step - accuracy: 0.9980 - loss: 0.0043 - val_accuracy: 0.9411 - val_loss: 0.7563\n",
      "Epoch 95/500\n",
      "326/326 - 1s - 3ms/step - accuracy: 0.9982 - loss: 0.0033 - val_accuracy: 0.9424 - val_loss: 0.7764\n",
      "Epoch 96/500\n",
      "326/326 - 1s - 3ms/step - accuracy: 0.9982 - loss: 0.0035 - val_accuracy: 0.9424 - val_loss: 0.7535\n",
      "Epoch 97/500\n",
      "326/326 - 1s - 3ms/step - accuracy: 0.9986 - loss: 0.0027 - val_accuracy: 0.9422 - val_loss: 0.7749\n",
      "Epoch 98/500\n",
      "326/326 - 1s - 3ms/step - accuracy: 0.9983 - loss: 0.0032 - val_accuracy: 0.9417 - val_loss: 0.7778\n",
      "Epoch 99/500\n",
      "326/326 - 1s - 3ms/step - accuracy: 0.9987 - loss: 0.0028 - val_accuracy: 0.9413 - val_loss: 0.8040\n",
      "Epoch 100/500\n",
      "326/326 - 1s - 3ms/step - accuracy: 0.9985 - loss: 0.0028 - val_accuracy: 0.9422 - val_loss: 0.8161\n",
      "Epoch 101/500\n",
      "326/326 - 1s - 3ms/step - accuracy: 0.9983 - loss: 0.0031 - val_accuracy: 0.9432 - val_loss: 0.8097\n",
      "Epoch 102/500\n",
      "326/326 - 1s - 3ms/step - accuracy: 0.9982 - loss: 0.0032 - val_accuracy: 0.9430 - val_loss: 0.8278\n",
      "Epoch 103/500\n",
      "326/326 - 1s - 3ms/step - accuracy: 0.9986 - loss: 0.0026 - val_accuracy: 0.9420 - val_loss: 0.8312\n",
      "Epoch 104/500\n",
      "326/326 - 1s - 3ms/step - accuracy: 0.9983 - loss: 0.0035 - val_accuracy: 0.9409 - val_loss: 0.8422\n"
     ]
    },
    {
     "data": {
      "text/plain": [
       "<keras.src.callbacks.history.History at 0x7f54a8bd0310>"
      ]
     },
     "execution_count": 130,
     "metadata": {},
     "output_type": "execute_result"
    }
   ],
   "source": [
    "nn_model.fit(X_train, y_train_oh,\n",
    "             batch_size=64, epochs=500, verbose=2, callbacks=my_callbacks,\n",
    "             validation_data=(X_val, y_val_oh))"
   ]
  },
  {
   "cell_type": "markdown",
   "metadata": {},
   "source": [
    "### Neural Nework Evaluation"
   ]
  },
  {
   "cell_type": "code",
   "execution_count": 80,
   "metadata": {
    "execution": {
     "iopub.execute_input": "2025-01-10T11:24:56.740778Z",
     "iopub.status.busy": "2025-01-10T11:24:56.740466Z",
     "iopub.status.idle": "2025-01-10T11:24:56.745771Z",
     "shell.execute_reply": "2025-01-10T11:24:56.744904Z",
     "shell.execute_reply.started": "2025-01-10T11:24:56.740755Z"
    },
    "trusted": true
   },
   "outputs": [],
   "source": [
    "def show_evaluation_nn(model, model_name='Neural Network'):\n",
    "    # print(f'Best model of {model_name}', model.best_params_)\n",
    "    \n",
    "    val_pred = model.predict(X_val, verbose=0)\n",
    "    test_pred = model.predict(X_test, verbose=0)\n",
    "\n",
    "    print(f'Accuracy of {model_name} in Val Set is: ', accuracy_score(y_val,\n",
    "                                                                      np.argmax(val_pred, axis=1)))\n",
    "    print(f'Accuracy of {model_name} in Test Set is: ', accuracy_score(y_test,\n",
    "                                                                       np.argmax(test_pred, axis=1)))\n",
    "\n",
    "    print(f'\\nClassification Report of {model_name} in Test Set is:\\n',\n",
    "            classification_report(y_test,  np.argmax(test_pred, axis=1), digits=6,\n",
    "                                  target_names=list(class_to_number.keys())))"
   ]
  },
  {
   "cell_type": "code",
   "execution_count": 131,
   "metadata": {
    "execution": {
     "iopub.execute_input": "2025-01-10T12:19:48.371529Z",
     "iopub.status.busy": "2025-01-10T12:19:48.371139Z",
     "iopub.status.idle": "2025-01-10T12:19:49.648779Z",
     "shell.execute_reply": "2025-01-10T12:19:49.648017Z",
     "shell.execute_reply.started": "2025-01-10T12:19:48.371503Z"
    },
    "trusted": true
   },
   "outputs": [
    {
     "name": "stdout",
     "output_type": "stream",
     "text": [
      "Accuracy of Neural Network in Val Set is:  0.9456918057954328\n",
      "Accuracy of Neural Network in Test Set is:  0.7820833333333334\n",
      "\n",
      "Classification Report of Neural Network in Test Set is:\n",
      "               precision    recall  f1-score   support\n",
      "\n",
      "    Doi song   0.504249  0.593333  0.545176       300\n",
      "   Phap luat   0.901754  0.856667  0.878632       300\n",
      "     Van hoa   0.614679  0.223333  0.327628       300\n",
      "    The thao   0.945687  0.986667  0.965742       300\n",
      "  Kinh doanh   0.840625  0.896667  0.867742       300\n",
      "    The gioi   0.852090  0.883333  0.867430       300\n",
      "    Khoa hoc   0.811502  0.846667  0.828711       300\n",
      "    Suc khoe   0.734848  0.970000  0.836207       300\n",
      "\n",
      "    accuracy                       0.782083      2400\n",
      "   macro avg   0.775679  0.782083  0.764659      2400\n",
      "weighted avg   0.775679  0.782083  0.764659      2400\n",
      "\n"
     ]
    }
   ],
   "source": [
    "# nn_model.evaluate(X_test, y_test_oh)\n",
    "show_evaluation_nn(nn_model, model_name='Neural Network')"
   ]
  }
 ],
 "metadata": {
  "accelerator": "GPU",
  "colab": {
   "gpuType": "T4",
   "provenance": []
  },
  "kaggle": {
   "accelerator": "nvidiaTeslaT4",
   "dataSources": [
    {
     "datasetId": 6416446,
     "sourceId": 10360526,
     "sourceType": "datasetVersion"
    }
   ],
   "dockerImageVersionId": 30823,
   "isGpuEnabled": true,
   "isInternetEnabled": true,
   "language": "python",
   "sourceType": "notebook"
  },
  "kernelspec": {
   "display_name": "Python 3",
   "language": "python",
   "name": "python3"
  },
  "language_info": {
   "codemirror_mode": {
    "name": "ipython",
    "version": 3
   },
   "file_extension": ".py",
   "mimetype": "text/x-python",
   "name": "python",
   "nbconvert_exporter": "python",
   "pygments_lexer": "ipython3",
   "version": "3.10.12"
  }
 },
 "nbformat": 4,
 "nbformat_minor": 4
}
