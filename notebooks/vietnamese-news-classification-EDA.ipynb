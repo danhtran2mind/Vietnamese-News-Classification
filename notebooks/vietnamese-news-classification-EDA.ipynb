{
 "cells": [
  {
   "cell_type": "markdown",
   "metadata": {},
   "source": [
    "# Setup Working directory"
   ]
  },
  {
   "cell_type": "code",
   "execution_count": 6,
   "metadata": {},
   "outputs": [],
   "source": [
    "import os\n",
    "\n",
    "if os.path.basename(os.getcwd()) == \"notebooks\":\n",
    "    os.chdir(\"../\")"
   ]
  },
  {
   "cell_type": "markdown",
   "metadata": {},
   "source": [
    "# Install Libraries and Download Dataset"
   ]
  },
  {
   "cell_type": "code",
   "execution_count": null,
   "metadata": {
    "_cell_guid": "b1076dfc-b9ad-4769-8c92-a6c4dae69d19",
    "_uuid": "8f2839f25d086af736a60e9eeb907d3b93b6e0e5",
    "execution": {
     "iopub.execute_input": "2025-01-10T12:31:19.124429Z",
     "iopub.status.busy": "2025-01-10T12:31:19.123936Z",
     "iopub.status.idle": "2025-01-10T12:31:27.021410Z",
     "shell.execute_reply": "2025-01-10T12:31:27.019831Z",
     "shell.execute_reply.started": "2025-01-10T12:31:19.124383Z"
    },
    "trusted": true
   },
   "outputs": [],
   "source": [
    "!pip install -q underthesea\n",
    "!pip install -q kaggle"
   ]
  },
  {
   "cell_type": "code",
   "execution_count": 8,
   "metadata": {
    "execution": {
     "iopub.execute_input": "2025-01-10T12:31:27.023522Z",
     "iopub.status.busy": "2025-01-10T12:31:27.023199Z",
     "iopub.status.idle": "2025-01-10T12:31:35.077460Z",
     "shell.execute_reply": "2025-01-10T12:31:35.076234Z",
     "shell.execute_reply.started": "2025-01-10T12:31:27.023476Z"
    },
    "trusted": true
   },
   "outputs": [
    {
     "name": "stdout",
     "output_type": "stream",
     "text": [
      "Dataset URL: https://www.kaggle.com/datasets/phmanhth/vietnamese-text-classification\n",
      "License(s): unknown\n",
      "Downloading vietnamese-text-classification.zip to c:\\Users\\MyLaptop\\Desktop\\New folder (4)\\Vietnamese-News-Classification\\notebooks\n",
      "\n"
     ]
    },
    {
     "name": "stderr",
     "output_type": "stream",
     "text": [
      "\n",
      "  0%|          | 0.00/45.7M [00:00<?, ?B/s]\n",
      "  2%|▏         | 1.00M/45.7M [00:04<02:59, 261kB/s]\n",
      "  4%|▍         | 2.00M/45.7M [00:08<03:11, 240kB/s]\n",
      "  7%|▋         | 3.00M/45.7M [00:13<03:09, 236kB/s]\n",
      "  9%|▉         | 4.00M/45.7M [00:15<02:29, 293kB/s]\n",
      " 11%|█         | 5.00M/45.7M [00:17<02:04, 344kB/s]\n",
      " 13%|█▎        | 6.00M/45.7M [00:19<01:45, 394kB/s]\n",
      " 15%|█▌        | 7.00M/45.7M [00:21<01:36, 419kB/s]\n",
      " 18%|█▊        | 8.00M/45.7M [00:23<01:29, 441kB/s]\n",
      " 20%|█▉        | 9.00M/45.7M [00:25<01:23, 460kB/s]\n",
      " 22%|██▏       | 10.0M/45.7M [00:28<01:22, 456kB/s]\n",
      " 24%|██▍       | 11.0M/45.7M [00:30<01:21, 446kB/s]\n",
      " 26%|██▋       | 12.0M/45.7M [00:33<01:20, 440kB/s]\n",
      " 28%|██▊       | 13.0M/45.7M [00:35<01:15, 456kB/s]\n",
      " 31%|███       | 14.0M/45.7M [00:37<01:13, 454kB/s]\n",
      " 33%|███▎      | 15.0M/45.7M [00:40<01:19, 407kB/s]\n",
      " 35%|███▌      | 16.0M/45.7M [00:43<01:22, 376kB/s]\n",
      " 37%|███▋      | 17.0M/45.7M [00:46<01:19, 381kB/s]\n",
      " 39%|███▉      | 18.0M/45.7M [00:49<01:13, 394kB/s]\n",
      " 42%|████▏     | 19.0M/45.7M [00:52<01:18, 355kB/s]\n",
      " 44%|████▍     | 20.0M/45.7M [00:55<01:15, 355kB/s]\n",
      " 46%|████▌     | 21.0M/45.7M [00:58<01:09, 372kB/s]\n",
      " 48%|████▊     | 22.0M/45.7M [01:00<01:03, 394kB/s]\n",
      " 50%|█████     | 23.0M/45.7M [01:03<01:00, 394kB/s]\n",
      " 53%|█████▎    | 24.0M/45.7M [01:05<00:57, 395kB/s]\n",
      " 55%|█████▍    | 25.0M/45.7M [01:07<00:51, 421kB/s]\n",
      " 57%|█████▋    | 26.0M/45.7M [01:10<00:47, 433kB/s]\n",
      " 59%|█████▉    | 27.0M/45.7M [01:13<00:48, 408kB/s]\n",
      " 61%|██████▏   | 28.0M/45.7M [01:15<00:47, 393kB/s]\n",
      " 63%|██████▎   | 29.0M/45.7M [01:18<00:42, 416kB/s]\n",
      " 66%|██████▌   | 30.0M/45.7M [01:20<00:40, 405kB/s]\n",
      " 68%|██████▊   | 31.0M/45.7M [01:23<00:40, 381kB/s]\n",
      " 70%|███████   | 32.0M/45.7M [01:26<00:38, 376kB/s]\n",
      " 72%|███████▏  | 33.0M/45.7M [01:29<00:33, 395kB/s]\n",
      " 74%|███████▍  | 34.0M/45.7M [01:32<00:32, 381kB/s]\n",
      " 77%|███████▋  | 35.0M/45.7M [01:35<00:31, 354kB/s]\n",
      " 79%|███████▉  | 36.0M/45.7M [01:38<00:28, 363kB/s]\n",
      " 81%|████████  | 37.0M/45.7M [01:40<00:23, 384kB/s]\n",
      " 83%|████████▎ | 38.0M/45.7M [01:43<00:21, 372kB/s]\n",
      " 85%|████████▌ | 39.0M/45.7M [01:47<00:20, 343kB/s]\n",
      " 88%|████████▊ | 40.0M/45.7M [01:50<00:16, 358kB/s]\n",
      " 90%|████████▉ | 41.0M/45.7M [01:53<00:14, 331kB/s]\n",
      " 92%|█████████▏| 42.0M/45.7M [01:57<00:12, 322kB/s]\n",
      " 94%|█████████▍| 43.0M/45.7M [01:59<00:08, 336kB/s]\n",
      " 96%|█████████▋| 44.0M/45.7M [02:02<00:05, 341kB/s]\n",
      " 98%|█████████▊| 45.0M/45.7M [02:06<00:02, 336kB/s]\n",
      "100%|██████████| 45.7M/45.7M [02:07<00:00, 353kB/s]\n",
      "100%|██████████| 45.7M/45.7M [02:07<00:00, 375kB/s]\n"
     ]
    }
   ],
   "source": [
    "import os\n",
    "import zipfile\n",
    "\n",
    "\n",
    "os.makedirs(\"dataset\", exist_ok=True)\n",
    "os.makedirs(\"tokenizers\", exist_ok=True)\n",
    "\n",
    "!kaggle datasets download phmanhth/vietnamese-text-classification\n",
    "\n",
    "with zipfile.ZipFile(\"vietnamese-text-classification.zip\", 'r') as zip_ref:\n",
    "     zip_ref.extractall(\"dataset\")"
   ]
  },
  {
   "cell_type": "markdown",
   "metadata": {},
   "source": [
    "# Import Libraries"
   ]
  },
  {
   "cell_type": "code",
   "execution_count": 1,
   "metadata": {
    "execution": {
     "iopub.execute_input": "2025-01-10T12:35:09.906292Z",
     "iopub.status.busy": "2025-01-10T12:35:09.905878Z",
     "iopub.status.idle": "2025-01-10T12:35:09.913913Z",
     "shell.execute_reply": "2025-01-10T12:35:09.912061Z",
     "shell.execute_reply.started": "2025-01-10T12:35:09.906262Z"
    },
    "trusted": true
   },
   "outputs": [],
   "source": [
    "import pandas as pd\n",
    "import numpy as np\n",
    "import time\n",
    "import os\n",
    "from sklearn.model_selection import train_test_split\n",
    "from sklearn.preprocessing import OneHotEncoder\n",
    "\n",
    "import matplotlib.pyplot as plt\n",
    "import seaborn as sns\n",
    "import matplotlib.ticker as ticker\n",
    "from matplotlib.pyplot import savefig\n",
    "\n",
    "from underthesea import word_tokenize\n",
    "\n",
    "import pickle\n",
    "import json\n",
    "import tensorflow as tf\n",
    "from tensorflow.keras.preprocessing.text import Tokenizer\n",
    "from tensorflow.keras.preprocessing.sequence import pad_sequences"
   ]
  },
  {
   "cell_type": "markdown",
   "metadata": {},
   "source": [
    "# Processing Dataset"
   ]
  },
  {
   "cell_type": "markdown",
   "metadata": {},
   "source": [
    "## Load Dataset"
   ]
  },
  {
   "cell_type": "code",
   "execution_count": 3,
   "metadata": {
    "execution": {
     "iopub.execute_input": "2025-01-10T12:31:53.308063Z",
     "iopub.status.busy": "2025-01-10T12:31:53.307439Z",
     "iopub.status.idle": "2025-01-10T12:31:53.317302Z",
     "shell.execute_reply": "2025-01-10T12:31:53.316179Z",
     "shell.execute_reply.started": "2025-01-10T12:31:53.308027Z"
    },
    "trusted": true
   },
   "outputs": [],
   "source": [
    "def load_data_from_folder(folder_path, label_column='label'):\n",
    "    \"\"\"Loads data from a folder of text files into a pandas DataFrame.\"\"\"\n",
    "    data = []\n",
    "    for foldername in os.listdir(folder_path):\n",
    "      for filename in os.listdir(os.path.join(folder_path, foldername)):\n",
    "        if filename.endswith('.txt'): # Adjust file extension if needed\n",
    "            filepath = os.path.join(folder_path, foldername, filename)\n",
    "            # print(filepath)\n",
    "            try:\n",
    "              with open(filepath, 'r', encoding='UTF-16') as f:  # Handle encoding\n",
    "                content = f.read()\n",
    "            except:\n",
    "              try:\n",
    "                with open(filepath, 'r', encoding='UTF-8') as f:  # Handle encoding\n",
    "                    content = f.read()\n",
    "              except UnicodeDecodeError:\n",
    "                print(UnicodeDecodeError)\n",
    "            # label = filename.split('_')[0] # Extract label from filename\n",
    "            data.append({'content': content, 'label': foldername})\n",
    "    return pd.DataFrame(data)\n"
   ]
  },
  {
   "cell_type": "code",
   "execution_count": 4,
   "metadata": {
    "execution": {
     "iopub.execute_input": "2025-01-10T12:32:18.658823Z",
     "iopub.status.busy": "2025-01-10T12:32:18.658413Z",
     "iopub.status.idle": "2025-01-10T12:32:20.021405Z",
     "shell.execute_reply": "2025-01-10T12:32:20.020246Z",
     "shell.execute_reply.started": "2025-01-10T12:32:18.658790Z"
    },
    "trusted": true
   },
   "outputs": [],
   "source": [
    "train_df = load_data_from_folder('dataset/data/Train')\n",
    "test_df = load_data_from_folder('dataset/data/Test')"
   ]
  },
  {
   "cell_type": "markdown",
   "metadata": {},
   "source": [
    "## Visualize Distribution of Labels in Training Data"
   ]
  },
  {
   "cell_type": "code",
   "execution_count": 10,
   "metadata": {
    "execution": {
     "iopub.execute_input": "2025-01-10T12:32:45.183435Z",
     "iopub.status.busy": "2025-01-10T12:32:45.183088Z",
     "iopub.status.idle": "2025-01-10T12:32:45.190939Z",
     "shell.execute_reply": "2025-01-10T12:32:45.189121Z",
     "shell.execute_reply.started": "2025-01-10T12:32:45.183408Z"
    },
    "trusted": true
   },
   "outputs": [
    {
     "data": {
      "text/plain": [
       "array(['Doi song', 'Khoa hoc', 'Kinh doanh', 'Phap luat', 'Suc khoe',\n",
       "       'The gioi', 'The thao', 'Van hoa'], dtype=object)"
      ]
     },
     "execution_count": 10,
     "metadata": {},
     "output_type": "execute_result"
    }
   ],
   "source": [
    "test_df['label'].unique()"
   ]
  },
  {
   "cell_type": "code",
   "execution_count": 11,
   "metadata": {
    "execution": {
     "iopub.execute_input": "2025-01-10T12:38:39.413594Z",
     "iopub.status.busy": "2025-01-10T12:38:39.413245Z",
     "iopub.status.idle": "2025-01-10T12:38:39.840777Z",
     "shell.execute_reply": "2025-01-10T12:38:39.839611Z",
     "shell.execute_reply.started": "2025-01-10T12:38:39.413567Z"
    },
    "trusted": true
   },
   "outputs": [
    {
     "data": {
      "image/png": "[encoded data removed]",
      "text/plain": [
       "<Figure size 1100x450 with 1 Axes>"
      ]
     },
     "metadata": {},
     "output_type": "display_data"
    },
    {
     "data": {
      "text/plain": [
       "<Figure size 640x480 with 0 Axes>"
      ]
     },
     "metadata": {},
     "output_type": "display_data"
    }
   ],
   "source": [
    "os.makedirs(\"visualization\", exist_ok=True)\n",
    "plt.figure(figsize=(11, 4.5))\n",
    "sns.countplot(x='label', data=train_df)#, order=label_counts.index)\n",
    "plt.xticks(rotation=35)  # Rotate x-axis labels for better readability\n",
    "plt.xlabel(\"Label\")\n",
    "plt.ylabel(\"Number of Samples\")\n",
    "plt.title(\"Distribution of Labels in Training Data\")\n",
    "\n",
    "# Format y-axis ticks with commas as thousands separators\n",
    "plt.gca().yaxis.set_major_formatter(ticker.StrMethodFormatter('{x:,.0f}'))\n",
    "\n",
    "# Annotate each bar with its count\n",
    "for p in plt.gca().patches:\n",
    "    plt.gca().annotate(f'{int(p.get_height()):,}', (p.get_x() + p.get_width() / 2., p.get_height()),\n",
    "                   ha='center', va='center', fontsize=10, xytext=(0, 5),\n",
    "                   textcoords='offset points')\n",
    "\n",
    "plt.tight_layout()\n",
    "plt.show()\n",
    "\n",
    "plt.savefig('visualization/training_data_distribution.png', dpi=300)"
   ]
  },
  {
   "cell_type": "code",
   "execution_count": 12,
   "metadata": {
    "execution": {
     "iopub.execute_input": "2025-01-10T12:36:44.945738Z",
     "iopub.status.busy": "2025-01-10T12:36:44.945304Z",
     "iopub.status.idle": "2025-01-10T12:36:44.961340Z",
     "shell.execute_reply": "2025-01-10T12:36:44.959968Z",
     "shell.execute_reply.started": "2025-01-10T12:36:44.945704Z"
    },
    "trusted": true
   },
   "outputs": [],
   "source": [
    "train_df = train_df.dropna()\n",
    "test_df = test_df.dropna()"
   ]
  },
  {
   "cell_type": "code",
   "execution_count": 13,
   "metadata": {
    "execution": {
     "iopub.execute_input": "2025-01-10T12:36:46.243827Z",
     "iopub.status.busy": "2025-01-10T12:36:46.243428Z",
     "iopub.status.idle": "2025-01-10T12:36:46.250429Z",
     "shell.execute_reply": "2025-01-10T12:36:46.249271Z",
     "shell.execute_reply.started": "2025-01-10T12:36:46.243793Z"
    },
    "trusted": true
   },
   "outputs": [
    {
     "data": {
      "text/plain": [
       "26059"
      ]
     },
     "execution_count": 13,
     "metadata": {},
     "output_type": "execute_result"
    }
   ],
   "source": [
    "len(train_df)"
   ]
  },
  {
   "cell_type": "markdown",
   "metadata": {},
   "source": [
    "## Word Tokenize in Training Dataset and Test Set"
   ]
  },
  {
   "cell_type": "code",
   "execution_count": null,
   "metadata": {
    "execution": {
     "iopub.status.busy": "2025-01-10T12:31:53.606363Z",
     "iopub.status.idle": "2025-01-10T12:31:53.606880Z",
     "shell.execute_reply": "2025-01-10T12:31:53.606634Z"
    },
    "trusted": true
   },
   "outputs": [],
   "source": [
    "train_df['content'] = [word_tokenize(el, format='text') for el in train_df['content']]\n",
    "test_df['content'] = [word_tokenize(el, format='text') for el in test_df['content']]\n"
   ]
  },
  {
   "cell_type": "markdown",
   "metadata": {},
   "source": [
    "## Save Converted Dataframes to CSV files"
   ]
  },
  {
   "cell_type": "code",
   "execution_count": null,
   "metadata": {
    "execution": {
     "iopub.status.busy": "2025-01-10T12:31:53.607935Z",
     "iopub.status.idle": "2025-01-10T12:31:53.608419Z",
     "shell.execute_reply": "2025-01-10T12:31:53.608209Z"
    },
    "trusted": true
   },
   "outputs": [],
   "source": [
    "os.makedirs(\"dataset\", exist_ok=True)\n",
    "\n",
    "train_df.to_csv(\"dataset/converted_train_dataset.csv\", index=False)\n",
    "test_df.to_csv(\"dataset/converted_test_dataset.csv\", index=False)"
   ]
  }
 ],
 "metadata": {
  "kaggle": {
   "accelerator": "none",
   "dataSources": [],
   "dockerImageVersionId": 30822,
   "isGpuEnabled": false,
   "isInternetEnabled": true,
   "language": "python",
   "sourceType": "notebook"
  },
  "kernelspec": {
   "display_name": "Python 3",
   "language": "python",
   "name": "python3"
  },
  "language_info": {
   "codemirror_mode": {
    "name": "ipython",
    "version": 3
   },
   "file_extension": ".py",
   "mimetype": "text/x-python",
   "name": "python",
   "nbconvert_exporter": "python",
   "pygments_lexer": "ipython3",
   "version": "3.11.9"
  }
 },
 "nbformat": 4,
 "nbformat_minor": 4
}
