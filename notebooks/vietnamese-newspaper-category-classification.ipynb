{
 "cells": [
  {
   "cell_type": "markdown",
   "metadata": {},
   "source": [
    "# Setup Working directory"
   ]
  },
  {
   "cell_type": "code",
   "execution_count": null,
   "metadata": {},
   "outputs": [],
   "source": [
    "import os\n",
    "\n",
    "if os.path.basename(os.getcwd()) == \"notebooks\":\n",
    "    os.chdir(\"../\")"
   ]
  },
  {
   "cell_type": "code",
   "execution_count": 1,
   "metadata": {
    "colab": {
     "base_uri": "https://localhost:8080/"
    },
    "execution": {
     "iopub.execute_input": "2025-01-15T04:58:33.678481Z",
     "iopub.status.busy": "2025-01-15T04:58:33.678008Z",
     "iopub.status.idle": "2025-01-15T04:58:41.466368Z",
     "shell.execute_reply": "2025-01-15T04:58:41.465292Z",
     "shell.execute_reply.started": "2025-01-15T04:58:33.678451Z"
    },
    "id": "gxGgev7JY2SS",
    "outputId": "9678930f-c08d-4ca1-c6fc-c35ad9a07c18",
    "trusted": true
   },
   "outputs": [
    {
     "name": "stdout",
     "output_type": "stream",
     "text": [
      "\u001b[2K   \u001b[90m━━━━━━━━━━━━━━━━━━━━━━━━━━━━━━━━━━━━━━━━\u001b[0m \u001b[32m20.9/20.9 MB\u001b[0m \u001b[31m60.6 MB/s\u001b[0m eta \u001b[36m0:00:00\u001b[0m:00:01\u001b[0m00:01\u001b[0m\n",
      "\u001b[2K   \u001b[90m━━━━━━━━━━━━━━━━━━━━━━━━━━━━━━━━━━━━━━━━\u001b[0m \u001b[32m657.8/657.8 kB\u001b[0m \u001b[31m24.7 MB/s\u001b[0m eta \u001b[36m0:00:00\u001b[0m\n",
      "\u001b[2K   \u001b[90m━━━━━━━━━━━━━━━━━━━━━━━━━━━━━━━━━━━━━━━━\u001b[0m \u001b[32m1.2/1.2 MB\u001b[0m \u001b[31m40.6 MB/s\u001b[0m eta \u001b[36m0:00:00\u001b[0m\n",
      "\u001b[?25h"
     ]
    }
   ],
   "source": [
    "!pip install -q underthesea\n",
    "# !pip install -U sentence-transformers"
   ]
  },
  {
   "cell_type": "code",
   "execution_count": null,
   "metadata": {
    "colab": {
     "base_uri": "https://localhost:8080/"
    },
    "execution": {
     "iopub.execute_input": "2025-01-15T00:30:12.051983Z",
     "iopub.status.busy": "2025-01-15T00:30:12.051766Z",
     "iopub.status.idle": "2025-01-15T00:30:13.378762Z",
     "shell.execute_reply": "2025-01-15T00:30:13.377690Z",
     "shell.execute_reply.started": "2025-01-15T00:30:12.051965Z"
    },
    "id": "_Nr5BsSODkr3",
    "outputId": "d76656a7-08a7-471b-c5c3-4d2bbfbb447a",
    "trusted": true
   },
   "outputs": [],
   "source": [
    "# !cp -r ../input/d/avaholmes/vnnews-classification/ABC/* ."
   ]
  },
  {
   "cell_type": "code",
   "execution_count": null,
   "metadata": {
    "execution": {
     "iopub.execute_input": "2025-01-15T05:00:58.145752Z",
     "iopub.status.busy": "2025-01-15T05:00:58.144596Z",
     "iopub.status.idle": "2025-01-15T05:01:04.754188Z",
     "shell.execute_reply": "2025-01-15T05:01:04.752426Z",
     "shell.execute_reply.started": "2025-01-15T05:00:58.145690Z"
    },
    "trusted": true
   },
   "outputs": [],
   "source": [
    "# !cp -r ../input/vietnamese-newspaper-category-classification-1/* ."
   ]
  },
  {
   "cell_type": "code",
   "execution_count": null,
   "metadata": {
    "execution": {
     "iopub.execute_input": "2025-01-15T05:10:40.474022Z",
     "iopub.status.busy": "2025-01-15T05:10:40.473570Z",
     "iopub.status.idle": "2025-01-15T05:10:40.484821Z",
     "shell.execute_reply": "2025-01-15T05:10:40.483376Z",
     "shell.execute_reply.started": "2025-01-15T05:10:40.473988Z"
    },
    "id": "FS-BSrmy4qQx",
    "trusted": true
   },
   "outputs": [],
   "source": [
    "import pandas as pd\n",
    "import numpy as np\n",
    "import time\n",
    "import os\n",
    "import numpy as np  \n",
    "from sklearn.model_selection import train_test_split\n",
    "from sklearn.preprocessing import OneHotEncoder\n",
    "\n",
    "import matplotlib.pyplot as plt\n",
    "import seaborn as sns\n",
    "\n",
    "from underthesea import word_tokenize\n",
    "\n",
    "import pickle\n",
    "import json\n",
    "import tensorflow as tf\n",
    "from tensorflow.keras.preprocessing.text import Tokenizer\n",
    "from tensorflow.keras.preprocessing.sequence import pad_sequences\n",
    "\n",
    "import tensorflow as tf\n",
    "from tensorflow.keras.models import Model\n",
    "from tensorflow.keras.layers import Input, Bidirectional, LSTM, Dense, concatenate, Dropout, BatchNormalization, GRU, RNN"
   ]
  },
  {
   "cell_type": "code",
   "execution_count": 19,
   "metadata": {
    "colab": {
     "base_uri": "https://localhost:8080/",
     "height": 423
    },
    "execution": {
     "iopub.execute_input": "2025-01-15T05:07:06.328988Z",
     "iopub.status.busy": "2025-01-15T05:07:06.328465Z",
     "iopub.status.idle": "2025-01-15T05:07:09.255551Z",
     "shell.execute_reply": "2025-01-15T05:07:09.254486Z",
     "shell.execute_reply.started": "2025-01-15T05:07:06.328950Z"
    },
    "id": "TjYWqSqC0alG",
    "outputId": "dd3817a7-050e-4146-db16-b69c2dd27622",
    "trusted": true
   },
   "outputs": [
    {
     "data": {
      "text/html": [
       "<div>\n",
       "<style scoped>\n",
       "    .dataframe tbody tr th:only-of-type {\n",
       "        vertical-align: middle;\n",
       "    }\n",
       "\n",
       "    .dataframe tbody tr th {\n",
       "        vertical-align: top;\n",
       "    }\n",
       "\n",
       "    .dataframe thead th {\n",
       "        text-align: right;\n",
       "    }\n",
       "</style>\n",
       "<table border=\"1\" class=\"dataframe\">\n",
       "  <thead>\n",
       "    <tr style=\"text-align: right;\">\n",
       "      <th></th>\n",
       "      <th>content</th>\n",
       "      <th>label</th>\n",
       "    </tr>\n",
       "  </thead>\n",
       "  <tbody>\n",
       "    <tr>\n",
       "      <th>0</th>\n",
       "      <td>&lt;sos&gt; Quán cuối tuần : Nhà_hàng Edo Nhà_hàng n...</td>\n",
       "      <td>Doi song</td>\n",
       "    </tr>\n",
       "    <tr>\n",
       "      <th>1</th>\n",
       "      <td>&lt;sos&gt; Kết_quả nghiên_cứu của một nhóm nghiên_c...</td>\n",
       "      <td>Doi song</td>\n",
       "    </tr>\n",
       "    <tr>\n",
       "      <th>2</th>\n",
       "      <td>&lt;sos&gt; Khăn choàng Bạn được tặng nhiều khăn_quà...</td>\n",
       "      <td>Doi song</td>\n",
       "    </tr>\n",
       "    <tr>\n",
       "      <th>3</th>\n",
       "      <td>&lt;sos&gt; Chuyện của anh Kha rất giống gia_đình tô...</td>\n",
       "      <td>Doi song</td>\n",
       "    </tr>\n",
       "    <tr>\n",
       "      <th>4</th>\n",
       "      <td>&lt;sos&gt; Cá hấp_Món cá_hấp có vị béo_ngọt của thị...</td>\n",
       "      <td>Doi song</td>\n",
       "    </tr>\n",
       "    <tr>\n",
       "      <th>...</th>\n",
       "      <td>...</td>\n",
       "      <td>...</td>\n",
       "    </tr>\n",
       "    <tr>\n",
       "      <th>26054</th>\n",
       "      <td>&lt;sos&gt; Đạn súng_hơi gây thương_tích cho một em ...</td>\n",
       "      <td>Suc khoe</td>\n",
       "    </tr>\n",
       "    <tr>\n",
       "      <th>26055</th>\n",
       "      <td>&lt;sos&gt; Không_khí sạch giúp xua_đuổi virus gây c...</td>\n",
       "      <td>Suc khoe</td>\n",
       "    </tr>\n",
       "    <tr>\n",
       "      <th>26056</th>\n",
       "      <td>&lt;sos&gt; Mất tiếng do ho nhiều Một_số người bị ho...</td>\n",
       "      <td>Suc khoe</td>\n",
       "    </tr>\n",
       "    <tr>\n",
       "      <th>26057</th>\n",
       "      <td>&lt;sos&gt; Bệnh_nhân Hong_Kong không chết vì SARS h...</td>\n",
       "      <td>Suc khoe</td>\n",
       "    </tr>\n",
       "    <tr>\n",
       "      <th>26058</th>\n",
       "      <td>&lt;sos&gt; Uống nước như_thế_nào khi tập_luyện ? Kh...</td>\n",
       "      <td>Suc khoe</td>\n",
       "    </tr>\n",
       "  </tbody>\n",
       "</table>\n",
       "<p>26059 rows × 2 columns</p>\n",
       "</div>"
      ],
      "text/plain": [
       "                                                 content     label\n",
       "0      <sos> Quán cuối tuần : Nhà_hàng Edo Nhà_hàng n...  Doi song\n",
       "1      <sos> Kết_quả nghiên_cứu của một nhóm nghiên_c...  Doi song\n",
       "2      <sos> Khăn choàng Bạn được tặng nhiều khăn_quà...  Doi song\n",
       "3      <sos> Chuyện của anh Kha rất giống gia_đình tô...  Doi song\n",
       "4      <sos> Cá hấp_Món cá_hấp có vị béo_ngọt của thị...  Doi song\n",
       "...                                                  ...       ...\n",
       "26054  <sos> Đạn súng_hơi gây thương_tích cho một em ...  Suc khoe\n",
       "26055  <sos> Không_khí sạch giúp xua_đuổi virus gây c...  Suc khoe\n",
       "26056  <sos> Mất tiếng do ho nhiều Một_số người bị ho...  Suc khoe\n",
       "26057  <sos> Bệnh_nhân Hong_Kong không chết vì SARS h...  Suc khoe\n",
       "26058  <sos> Uống nước như_thế_nào khi tập_luyện ? Kh...  Suc khoe\n",
       "\n",
       "[26059 rows x 2 columns]"
      ]
     },
     "execution_count": 19,
     "metadata": {},
     "output_type": "execute_result"
    }
   ],
   "source": [
    "# Read Convert CSV\n",
    "os.makedirs(\"dataset\", exist_ok=True)\n",
    "converted_df = pd.read_csv(\"dataset/converted_train_dataset.csv\")\n",
    "converted_df['content'] = \"<sos> \" + converted_df['content'] + \" <eos>\"\n",
    "converted_df"
   ]
  },
  {
   "cell_type": "code",
   "execution_count": 20,
   "metadata": {
    "execution": {
     "iopub.execute_input": "2025-01-15T05:07:09.257438Z",
     "iopub.status.busy": "2025-01-15T05:07:09.257028Z",
     "iopub.status.idle": "2025-01-15T05:07:09.531306Z",
     "shell.execute_reply": "2025-01-15T05:07:09.530223Z",
     "shell.execute_reply.started": "2025-01-15T05:07:09.257400Z"
    },
    "trusted": true
   },
   "outputs": [
    {
     "data": {
      "text/html": [
       "<div>\n",
       "<style scoped>\n",
       "    .dataframe tbody tr th:only-of-type {\n",
       "        vertical-align: middle;\n",
       "    }\n",
       "\n",
       "    .dataframe tbody tr th {\n",
       "        vertical-align: top;\n",
       "    }\n",
       "\n",
       "    .dataframe thead th {\n",
       "        text-align: right;\n",
       "    }\n",
       "</style>\n",
       "<table border=\"1\" class=\"dataframe\">\n",
       "  <thead>\n",
       "    <tr style=\"text-align: right;\">\n",
       "      <th></th>\n",
       "      <th>content</th>\n",
       "      <th>label</th>\n",
       "    </tr>\n",
       "  </thead>\n",
       "  <tbody>\n",
       "    <tr>\n",
       "      <th>0</th>\n",
       "      <td>&lt;sos&gt; Những phát_hiện thú_vị về đàn_ông Đàn_ôn...</td>\n",
       "      <td>Doi song</td>\n",
       "    </tr>\n",
       "    <tr>\n",
       "      <th>1</th>\n",
       "      <td>&lt;sos&gt; Kỹ_thuật trồng sung Mỹ trong chậu_Anh Ng...</td>\n",
       "      <td>Doi song</td>\n",
       "    </tr>\n",
       "    <tr>\n",
       "      <th>2</th>\n",
       "      <td>&lt;sos&gt; Khổ vì bạn đời quá sạch Lau_chùi ba lượt...</td>\n",
       "      <td>Doi song</td>\n",
       "    </tr>\n",
       "    <tr>\n",
       "      <th>3</th>\n",
       "      <td>&lt;sos&gt; Chả lá lốt - món dân dã_vạn người mê Khô...</td>\n",
       "      <td>Doi song</td>\n",
       "    </tr>\n",
       "    <tr>\n",
       "      <th>4</th>\n",
       "      <td>&lt;sos&gt; Mực nhồi thịt sốt cà_chua Công_thức và c...</td>\n",
       "      <td>Doi song</td>\n",
       "    </tr>\n",
       "    <tr>\n",
       "      <th>...</th>\n",
       "      <td>...</td>\n",
       "      <td>...</td>\n",
       "    </tr>\n",
       "    <tr>\n",
       "      <th>2395</th>\n",
       "      <td>&lt;sos&gt; Xu_hướng tình_dục ở trẻ ' đáng báo_động ...</td>\n",
       "      <td>Suc khoe</td>\n",
       "    </tr>\n",
       "    <tr>\n",
       "      <th>2396</th>\n",
       "      <td>&lt;sos&gt; Bệnh gan bí_ẩn tàn_phá sức khỏe bệnh_nhi...</td>\n",
       "      <td>Suc khoe</td>\n",
       "    </tr>\n",
       "    <tr>\n",
       "      <th>2397</th>\n",
       "      <td>&lt;sos&gt; Điều cần tránh khi uống trà xanh Theo bá...</td>\n",
       "      <td>Suc khoe</td>\n",
       "    </tr>\n",
       "    <tr>\n",
       "      <th>2398</th>\n",
       "      <td>&lt;sos&gt; Sốt_xuất_huyết bùng_phát ở phía Nam Hệ_t...</td>\n",
       "      <td>Suc khoe</td>\n",
       "    </tr>\n",
       "    <tr>\n",
       "      <th>2399</th>\n",
       "      <td>&lt;sos&gt; Tổn_thương đa_tạng do đồng_nhiễm xoắn_kh...</td>\n",
       "      <td>Suc khoe</td>\n",
       "    </tr>\n",
       "  </tbody>\n",
       "</table>\n",
       "<p>2400 rows × 2 columns</p>\n",
       "</div>"
      ],
      "text/plain": [
       "                                                content     label\n",
       "0     <sos> Những phát_hiện thú_vị về đàn_ông Đàn_ôn...  Doi song\n",
       "1     <sos> Kỹ_thuật trồng sung Mỹ trong chậu_Anh Ng...  Doi song\n",
       "2     <sos> Khổ vì bạn đời quá sạch Lau_chùi ba lượt...  Doi song\n",
       "3     <sos> Chả lá lốt - món dân dã_vạn người mê Khô...  Doi song\n",
       "4     <sos> Mực nhồi thịt sốt cà_chua Công_thức và c...  Doi song\n",
       "...                                                 ...       ...\n",
       "2395  <sos> Xu_hướng tình_dục ở trẻ ' đáng báo_động ...  Suc khoe\n",
       "2396  <sos> Bệnh gan bí_ẩn tàn_phá sức khỏe bệnh_nhi...  Suc khoe\n",
       "2397  <sos> Điều cần tránh khi uống trà xanh Theo bá...  Suc khoe\n",
       "2398  <sos> Sốt_xuất_huyết bùng_phát ở phía Nam Hệ_t...  Suc khoe\n",
       "2399  <sos> Tổn_thương đa_tạng do đồng_nhiễm xoắn_kh...  Suc khoe\n",
       "\n",
       "[2400 rows x 2 columns]"
      ]
     },
     "execution_count": 20,
     "metadata": {},
     "output_type": "execute_result"
    }
   ],
   "source": [
    "converted_test_df = pd.read_csv(\"dataset/converted_test_dataset.csv\")\n",
    "converted_test_df['content'] = \"<sos> \" + converted_test_df['content'] + \" <eos>\"\n",
    "converted_test_df"
   ]
  },
  {
   "cell_type": "markdown",
   "metadata": {
    "id": "jZwlKqA51fXX"
   },
   "source": [
    "# Tokenizer"
   ]
  },
  {
   "cell_type": "code",
   "execution_count": 6,
   "metadata": {
    "execution": {
     "iopub.execute_input": "2025-01-12T14:06:22.418578Z",
     "iopub.status.busy": "2025-01-12T14:06:22.418212Z",
     "iopub.status.idle": "2025-01-12T14:06:22.422976Z",
     "shell.execute_reply": "2025-01-12T14:06:22.421794Z",
     "shell.execute_reply.started": "2025-01-12T14:06:22.418550Z"
    },
    "id": "qFQpaYlOrh7R",
    "trusted": true
   },
   "outputs": [],
   "source": [
    "# tokenizer = Tokenizer()\n",
    "tokenizer = Tokenizer(filters='!\"#$%&()*+,-./:;=?@[\\\\]^`{|}~\\t\\n')\n"
   ]
  },
  {
   "cell_type": "code",
   "execution_count": null,
   "metadata": {
    "id": "z-ba_CD5uk-g",
    "trusted": true
   },
   "outputs": [],
   "source": [
    "tokenizer.fit_on_texts( list(converted_df['content']))"
   ]
  },
  {
   "cell_type": "code",
   "execution_count": null,
   "metadata": {
    "id": "zB1LAwR6wDl5",
    "trusted": true
   },
   "outputs": [],
   "source": [
    "# Save Tokenize to Json files\n",
    "os.makedirs('tokenizers', exist_ok=True)\n",
    "\n",
    "tokenizer_json = tokenizer.to_json()\n",
    "\n",
    "\n",
    "with open('tokenizers/tokenizer.pkl', 'wb') as f:\n",
    "    pickle.dump(tokenizer_json, f)\n",
    "\n",
    "# with open('tokenizers/s_tokenizer.pkl', 'wb') as f:\n",
    "#     pickle.dump(s_tokenizer_json, f)"
   ]
  },
  {
   "cell_type": "code",
   "execution_count": 4,
   "metadata": {
    "execution": {
     "iopub.execute_input": "2025-01-15T03:27:48.641289Z",
     "iopub.status.busy": "2025-01-15T03:27:48.640978Z",
     "iopub.status.idle": "2025-01-15T03:27:49.448633Z",
     "shell.execute_reply": "2025-01-15T03:27:49.447913Z",
     "shell.execute_reply.started": "2025-01-15T03:27:48.641259Z"
    },
    "id": "hemz7rOrwGCH",
    "trusted": true
   },
   "outputs": [],
   "source": [
    "# Load Exists Tokenizers\n",
    "\n",
    "tokenizer_file = open('tokenizers/tokenizer.pkl', 'rb')\n",
    "tokenizer = pickle.load(tokenizer_file)\n",
    "\n",
    "tokenizer = tf.keras.preprocessing.text.tokenizer_from_json(tokenizer)"
   ]
  },
  {
   "cell_type": "code",
   "execution_count": 5,
   "metadata": {
    "colab": {
     "base_uri": "https://localhost:8080/"
    },
    "execution": {
     "iopub.execute_input": "2025-01-15T00:45:21.272044Z",
     "iopub.status.busy": "2025-01-15T00:45:21.271747Z",
     "iopub.status.idle": "2025-01-15T00:45:21.277131Z",
     "shell.execute_reply": "2025-01-15T00:45:21.276389Z",
     "shell.execute_reply.started": "2025-01-15T00:45:21.272020Z"
    },
    "id": "1b8ZREHXvxcn",
    "outputId": "cdeb66b4-d2fc-4a1f-87c2-fb030798a6d7",
    "trusted": true
   },
   "outputs": [
    {
     "data": {
      "text/plain": [
       "188876"
      ]
     },
     "execution_count": 5,
     "metadata": {},
     "output_type": "execute_result"
    }
   ],
   "source": [
    "len(tokenizer.word_index) # 188876"
   ]
  },
  {
   "cell_type": "code",
   "execution_count": 5,
   "metadata": {
    "execution": {
     "iopub.execute_input": "2025-01-15T03:27:49.588234Z",
     "iopub.status.busy": "2025-01-15T03:27:49.587952Z",
     "iopub.status.idle": "2025-01-15T03:27:51.290022Z",
     "shell.execute_reply": "2025-01-15T03:27:51.289117Z",
     "shell.execute_reply.started": "2025-01-15T03:27:49.588212Z"
    },
    "trusted": true
   },
   "outputs": [
    {
     "name": "stdout",
     "output_type": "stream",
     "text": [
      "Mean number of words in the content: 434.77\n",
      "1-sigma interval: (92.33625778489187, 777.2043999533175)\n",
      "2-sigma interval: (-250.097813299321, 1119.6384710375305)\n",
      "3-sigma interval: (-592.5318843835337, 1462.0725421217433)\n"
     ]
    },
    {
     "name": "stderr",
     "output_type": "stream",
     "text": [
      "/usr/local/lib/python3.10/dist-packages/seaborn/_oldcore.py:1119: FutureWarning: use_inf_as_na option is deprecated and will be removed in a future version. Convert inf values to NaN before operating instead.\n",
      "  with pd.option_context('mode.use_inf_as_na', True):\n"
     ]
    },
    {
     "data": {
      "image/png": "[encoded data removed]",
      "text/plain": [
       "<Figure size 1200x800 with 1 Axes>"
      ]
     },
     "metadata": {},
     "output_type": "display_data"
    }
   ],
   "source": [
    "import pandas as pd\n",
    "import matplotlib.pyplot as plt\n",
    "\n",
    "# Calculate word count\n",
    "converted_df['word_count'] = converted_df['content'].apply(lambda x: len(x.split()))\n",
    "\n",
    "# Calculate mean and standard deviation\n",
    "mean_word_count = converted_df['word_count'].mean()\n",
    "std_word_count = converted_df['word_count'].std()\n",
    "\n",
    "# Calculate 1-sigma, 2-sigma, and 3-sigma intervals\n",
    "one_sigma_interval = (mean_word_count - std_word_count, mean_word_count + std_word_count)\n",
    "two_sigma_interval = (mean_word_count - 2 * std_word_count, mean_word_count + 2 * std_word_count)\n",
    "three_sigma_interval = (mean_word_count - 3 * std_word_count, mean_word_count + 3 * std_word_count)\n",
    "\n",
    "# Display the intervals\n",
    "print(f\"Mean number of words in the content: {mean_word_count:.2f}\")\n",
    "print(f\"1-sigma interval: {one_sigma_interval}\")\n",
    "print(f\"2-sigma interval: {two_sigma_interval}\")\n",
    "print(f\"3-sigma interval: {three_sigma_interval}\")\n",
    "\n",
    "# Plot the distribution of word counts\n",
    "plt.figure(figsize=(12, 8))\n",
    "sns.histplot(converted_df['word_count'], bins=100, kde=True, color='skyblue', edgecolor='black')\n",
    "plt.axvline(mean_word_count, color='red', linestyle='dashed', linewidth=2, label=f'Mean: {mean_word_count:.2f}')\n",
    "\n",
    "# Highlight 1-sigma, 2-sigma, and 3-sigma intervals\n",
    "plt.axvline(one_sigma_interval[0], color='green', linestyle='dotted', linewidth=2, label=f'1-sigma: {one_sigma_interval}')\n",
    "plt.axvline(one_sigma_interval[1], color='green', linestyle='dotted', linewidth=2)\n",
    "\n",
    "plt.axvline(two_sigma_interval[0], color='orange', linestyle='dotted', linewidth=2, label=f'2-sigma: {two_sigma_interval}')\n",
    "plt.axvline(two_sigma_interval[1], color='orange', linestyle='dotted', linewidth=2)\n",
    "\n",
    "plt.axvline(three_sigma_interval[0], color='purple', linestyle='dotted', linewidth=2, label=f'3-sigma: {three_sigma_interval}')\n",
    "plt.axvline(three_sigma_interval[1], color='purple', linestyle='dotted', linewidth=2)\n",
    "\n",
    "# Customize X-axis labels to appear every 20 units\n",
    "start = 0\n",
    "end = converted_df['word_count'].max()\n",
    "increment = 200\n",
    "xticks_locations = range(start, int(end) + 1, increment)\n",
    "plt.xticks(xticks_locations, rotation=75)\n",
    "plt.xlim(start, end)  # Ensure the plot shows the entire data\n",
    "\n",
    "plt.title('Distribution of Word Counts in Content')\n",
    "plt.xlabel('Number of Words')\n",
    "plt.ylabel('Frequency')\n",
    "plt.legend()\n",
    "plt.grid(True)\n",
    "plt.show()"
   ]
  },
  {
   "cell_type": "code",
   "execution_count": 23,
   "metadata": {
    "execution": {
     "iopub.execute_input": "2025-01-15T05:10:23.090336Z",
     "iopub.status.busy": "2025-01-15T05:10:23.089851Z",
     "iopub.status.idle": "2025-01-15T05:10:33.494223Z",
     "shell.execute_reply": "2025-01-15T05:10:33.493025Z",
     "shell.execute_reply.started": "2025-01-15T05:10:23.090298Z"
    },
    "id": "S4U0etUEwW_w",
    "trusted": true
   },
   "outputs": [],
   "source": [
    "encode_contents = tokenizer.texts_to_sequences(converted_df['content'])\n",
    "contents_max_length = max([len(el) for el in encode_contents])\n"
   ]
  },
  {
   "cell_type": "code",
   "execution_count": 24,
   "metadata": {
    "execution": {
     "iopub.execute_input": "2025-01-15T05:10:33.495852Z",
     "iopub.status.busy": "2025-01-15T05:10:33.495549Z",
     "iopub.status.idle": "2025-01-15T05:10:33.500267Z",
     "shell.execute_reply": "2025-01-15T05:10:33.499202Z",
     "shell.execute_reply.started": "2025-01-15T05:10:33.495826Z"
    },
    "trusted": true
   },
   "outputs": [],
   "source": [
    "VOCAB_SIZE = len(tokenizer.word_index)\n",
    "MAX_LEN = contents_max_length"
   ]
  },
  {
   "cell_type": "code",
   "execution_count": 25,
   "metadata": {
    "execution": {
     "iopub.execute_input": "2025-01-15T05:10:33.502486Z",
     "iopub.status.busy": "2025-01-15T05:10:33.502086Z",
     "iopub.status.idle": "2025-01-15T05:10:34.347609Z",
     "shell.execute_reply": "2025-01-15T05:10:34.346476Z",
     "shell.execute_reply.started": "2025-01-15T05:10:33.502442Z"
    },
    "trusted": true
   },
   "outputs": [],
   "source": [
    "encode_contents = pad_sequences(encode_contents, maxlen=MAX_LEN, padding='post')"
   ]
  },
  {
   "cell_type": "code",
   "execution_count": 26,
   "metadata": {
    "execution": {
     "iopub.execute_input": "2025-01-15T05:10:34.350039Z",
     "iopub.status.busy": "2025-01-15T05:10:34.349622Z",
     "iopub.status.idle": "2025-01-15T05:10:35.781666Z",
     "shell.execute_reply": "2025-01-15T05:10:35.780680Z",
     "shell.execute_reply.started": "2025-01-15T05:10:34.349997Z"
    },
    "trusted": true
   },
   "outputs": [],
   "source": [
    "X_test_contents = tokenizer.texts_to_sequences(converted_test_df['content'])\n",
    "contents_test_max_length = max([len(el) for el in X_test_contents])\n",
    "X_test_contents = pad_sequences(X_test_contents, maxlen=MAX_LEN, padding='post')"
   ]
  },
  {
   "cell_type": "code",
   "execution_count": 22,
   "metadata": {
    "execution": {
     "iopub.execute_input": "2025-01-15T05:09:57.806880Z",
     "iopub.status.busy": "2025-01-15T05:09:57.806310Z",
     "iopub.status.idle": "2025-01-15T05:09:57.824524Z",
     "shell.execute_reply": "2025-01-15T05:09:57.823277Z",
     "shell.execute_reply.started": "2025-01-15T05:09:57.806842Z"
    },
    "trusted": true
   },
   "outputs": [],
   "source": [
    "# One-hot y\n",
    "y = converted_df['label']\n",
    "y_test = converted_test_df['label']\n",
    "# Create the one-hot encoder\n",
    "enc = OneHotEncoder(handle_unknown='ignore', sparse_output=False)\n",
    "\n",
    "# Fit the encoder on the category names\n",
    "enc.fit(np.array(y).reshape(-1, 1))\n",
    "y = enc.transform(np.array(y).reshape(-1, 1))\n",
    "y_test = enc.transform(np.array(y_test).reshape(-1, 1))\n",
    "\n",
    "# Save to Json and Json file\n",
    "category_to_one_hot_dict = dict(zip(list(range(enc.categories_[0].shape[0])), enc.categories_[0]))"
   ]
  },
  {
   "cell_type": "code",
   "execution_count": 41,
   "metadata": {
    "execution": {
     "iopub.execute_input": "2025-01-15T05:24:15.281520Z",
     "iopub.status.busy": "2025-01-15T05:24:15.281024Z",
     "iopub.status.idle": "2025-01-15T05:24:15.288742Z",
     "shell.execute_reply": "2025-01-15T05:24:15.287351Z",
     "shell.execute_reply.started": "2025-01-15T05:24:15.281481Z"
    },
    "trusted": true
   },
   "outputs": [],
   "source": [
    "with open(\"saved_models/label_dict.json\", \"w\") as file:\n",
    "    json.dump(category_to_one_hot_dict, file)\n",
    "file.close()"
   ]
  },
  {
   "cell_type": "code",
   "execution_count": 27,
   "metadata": {
    "execution": {
     "iopub.execute_input": "2025-01-15T05:10:35.783374Z",
     "iopub.status.busy": "2025-01-15T05:10:35.782993Z",
     "iopub.status.idle": "2025-01-15T05:10:36.368443Z",
     "shell.execute_reply": "2025-01-15T05:10:36.367388Z",
     "shell.execute_reply.started": "2025-01-15T05:10:35.783343Z"
    },
    "id": "tGH30L2311km",
    "trusted": true
   },
   "outputs": [],
   "source": [
    "\n",
    "X_train_contents, X_val_contents, y_train, y_val = train_test_split(\n",
    "    encode_contents,  # Contents feature\n",
    "    y, stratify=y,\n",
    "    test_size=0.2,\n",
    "    random_state=12345\n",
    ")\n"
   ]
  },
  {
   "cell_type": "code",
   "execution_count": 28,
   "metadata": {
    "execution": {
     "iopub.execute_input": "2025-01-15T05:10:36.369755Z",
     "iopub.status.busy": "2025-01-15T05:10:36.369438Z",
     "iopub.status.idle": "2025-01-15T05:10:36.374548Z",
     "shell.execute_reply": "2025-01-15T05:10:36.373230Z",
     "shell.execute_reply.started": "2025-01-15T05:10:36.369725Z"
    },
    "id": "NFbjvKvnS7oL",
    "trusted": true
   },
   "outputs": [],
   "source": [
    "def convert_to_datast_tensor(X_contents, yy):\n",
    "\n",
    "  return tf.convert_to_tensor(X_contents, dtype=tf.int32),\\\n",
    "          tf.convert_to_tensor(yy, dtype=tf.float64)"
   ]
  },
  {
   "cell_type": "code",
   "execution_count": 29,
   "metadata": {
    "execution": {
     "iopub.execute_input": "2025-01-15T05:10:36.375814Z",
     "iopub.status.busy": "2025-01-15T05:10:36.375525Z",
     "iopub.status.idle": "2025-01-15T05:10:38.688615Z",
     "shell.execute_reply": "2025-01-15T05:10:38.687289Z",
     "shell.execute_reply.started": "2025-01-15T05:10:36.375789Z"
    },
    "id": "t-6TmnERBM8S",
    "trusted": true
   },
   "outputs": [],
   "source": [
    "# prompt: create tensorfrom slice ((X_train_title, X_train_summary,X_train_contents), y\n",
    "BATCH_SIZE = 92\n",
    "\n",
    "train_dataset = tf.data.Dataset.from_tensor_slices((X_train_contents, y_train)).\\\n",
    "                      map(convert_to_datast_tensor, num_parallel_calls=tf.data.AUTOTUNE).\\\n",
    "                      batch(BATCH_SIZE)\n",
    "\n",
    "val_dataset = tf.data.Dataset.from_tensor_slices((X_val_contents, y_val)).\\\n",
    "                      map(convert_to_datast_tensor, num_parallel_calls=tf.data.AUTOTUNE).\\\n",
    "                      batch(BATCH_SIZE)\n",
    "\n",
    "test_dataset = tf.data.Dataset.from_tensor_slices((X_test_contents, y_test)).\\\n",
    "                      map(convert_to_datast_tensor, num_parallel_calls=tf.data.AUTOTUNE).\\\n",
    "                      batch(BATCH_SIZE)"
   ]
  },
  {
   "cell_type": "code",
   "execution_count": 18,
   "metadata": {
    "execution": {
     "iopub.execute_input": "2025-01-15T03:28:25.243086Z",
     "iopub.status.busy": "2025-01-15T03:28:25.242757Z",
     "iopub.status.idle": "2025-01-15T03:28:25.249114Z",
     "shell.execute_reply": "2025-01-15T03:28:25.248294Z",
     "shell.execute_reply.started": "2025-01-15T03:28:25.243057Z"
    },
    "trusted": true
   },
   "outputs": [],
   "source": [
    "embedding_dim = 192\n",
    "# VOCAB_SIZE = \n",
    "def create_model():\n",
    "    # Define input layers\n",
    "    content_input = Input(shape=(MAX_LEN,), name='content_input')\n",
    "    \n",
    "    # Define embedding layers (you might need to adjust embedding dimension)    \n",
    "    content_embedding = tf.keras.layers.Embedding(VOCAB_SIZE,                                                  \n",
    "                                                  embedding_dim,\n",
    "                                                  # weights = [embedding_matrix],\n",
    "                                                  trainable=True)(content_input)\n",
    "    \n",
    "    content_lstm = Bidirectional(GRU(64, return_sequences=True))(content_embedding)\n",
    "    # content_lstm = LSTM(64, return_sequences=True)(content_embedding)\n",
    "    content_lstm = Dropout(0.2)(content_lstm)\n",
    "    content_lstm = BatchNormalization()(content_lstm)\n",
    "    \n",
    "    content_lstm = Bidirectional(GRU(64, return_sequences=False))(content_lstm)\n",
    "    # content_lstm = LSTM(220, return_sequences=False)(content_lstm)\n",
    "    content_lstm = Dropout(0.2)(content_lstm)\n",
    "    content_lstm = BatchNormalization()(content_lstm)\n",
    "    \n",
    "    # Define dense layers for classification\n",
    "    dense1 = Dense(192, activation='relu')(content_lstm)\n",
    "    dropout = Dropout(0.2)(dense1)\n",
    "    output = Dense(y_train.shape[1], activation='softmax')(dense1)  # Output layer with softmax\n",
    "    \n",
    "    # Create the model\n",
    "    model = Model(inputs=content_input, outputs=output)\n",
    "\n",
    "    return model"
   ]
  },
  {
   "cell_type": "code",
   "execution_count": 24,
   "metadata": {
    "colab": {
     "base_uri": "https://localhost:8080/",
     "height": 321
    },
    "execution": {
     "iopub.execute_input": "2025-01-15T03:29:57.016966Z",
     "iopub.status.busy": "2025-01-15T03:29:57.016615Z",
     "iopub.status.idle": "2025-01-15T03:29:57.167010Z",
     "shell.execute_reply": "2025-01-15T03:29:57.166244Z",
     "shell.execute_reply.started": "2025-01-15T03:29:57.016935Z"
    },
    "id": "RJ4wGlpm8Co1",
    "outputId": "20142340-33ab-47c1-a2b0-47a6c90c92b0",
    "trusted": true
   },
   "outputs": [
    {
     "data": {
      "text/html": [
       "<pre style=\"white-space:pre;overflow-x:auto;line-height:normal;font-family:Menlo,'DejaVu Sans Mono',consolas,'Courier New',monospace\"><span style=\"font-weight: bold\">Model: \"functional_1\"</span>\n",
       "</pre>\n"
      ],
      "text/plain": [
       "\u001b[1mModel: \"functional_1\"\u001b[0m\n"
      ]
     },
     "metadata": {},
     "output_type": "display_data"
    },
    {
     "data": {
      "text/html": [
       "<pre style=\"white-space:pre;overflow-x:auto;line-height:normal;font-family:Menlo,'DejaVu Sans Mono',consolas,'Courier New',monospace\">┏━━━━━━━━━━━━━━━━━━━━━━━━━━━━━━━━━━━━━━┳━━━━━━━━━━━━━━━━━━━━━━━━━━━━━┳━━━━━━━━━━━━━━━━━┓\n",
       "┃<span style=\"font-weight: bold\"> Layer (type)                         </span>┃<span style=\"font-weight: bold\"> Output Shape                </span>┃<span style=\"font-weight: bold\">         Param # </span>┃\n",
       "┡━━━━━━━━━━━━━━━━━━━━━━━━━━━━━━━━━━━━━━╇━━━━━━━━━━━━━━━━━━━━━━━━━━━━━╇━━━━━━━━━━━━━━━━━┩\n",
       "│ content_input (<span style=\"color: #0087ff; text-decoration-color: #0087ff\">InputLayer</span>)           │ (<span style=\"color: #00d7ff; text-decoration-color: #00d7ff\">None</span>, <span style=\"color: #00af00; text-decoration-color: #00af00\">8054</span>)                │               <span style=\"color: #00af00; text-decoration-color: #00af00\">0</span> │\n",
       "├──────────────────────────────────────┼─────────────────────────────┼─────────────────┤\n",
       "│ embedding_1 (<span style=\"color: #0087ff; text-decoration-color: #0087ff\">Embedding</span>)              │ (<span style=\"color: #00d7ff; text-decoration-color: #00d7ff\">None</span>, <span style=\"color: #00af00; text-decoration-color: #00af00\">8054</span>, <span style=\"color: #00af00; text-decoration-color: #00af00\">192</span>)           │      <span style=\"color: #00af00; text-decoration-color: #00af00\">36,264,192</span> │\n",
       "├──────────────────────────────────────┼─────────────────────────────┼─────────────────┤\n",
       "│ bidirectional_2 (<span style=\"color: #0087ff; text-decoration-color: #0087ff\">Bidirectional</span>)      │ (<span style=\"color: #00d7ff; text-decoration-color: #00d7ff\">None</span>, <span style=\"color: #00af00; text-decoration-color: #00af00\">8054</span>, <span style=\"color: #00af00; text-decoration-color: #00af00\">128</span>)           │          <span style=\"color: #00af00; text-decoration-color: #00af00\">99,072</span> │\n",
       "├──────────────────────────────────────┼─────────────────────────────┼─────────────────┤\n",
       "│ dropout_3 (<span style=\"color: #0087ff; text-decoration-color: #0087ff\">Dropout</span>)                  │ (<span style=\"color: #00d7ff; text-decoration-color: #00d7ff\">None</span>, <span style=\"color: #00af00; text-decoration-color: #00af00\">8054</span>, <span style=\"color: #00af00; text-decoration-color: #00af00\">128</span>)           │               <span style=\"color: #00af00; text-decoration-color: #00af00\">0</span> │\n",
       "├──────────────────────────────────────┼─────────────────────────────┼─────────────────┤\n",
       "│ batch_normalization_2                │ (<span style=\"color: #00d7ff; text-decoration-color: #00d7ff\">None</span>, <span style=\"color: #00af00; text-decoration-color: #00af00\">8054</span>, <span style=\"color: #00af00; text-decoration-color: #00af00\">128</span>)           │             <span style=\"color: #00af00; text-decoration-color: #00af00\">512</span> │\n",
       "│ (<span style=\"color: #0087ff; text-decoration-color: #0087ff\">BatchNormalization</span>)                 │                             │                 │\n",
       "├──────────────────────────────────────┼─────────────────────────────┼─────────────────┤\n",
       "│ bidirectional_3 (<span style=\"color: #0087ff; text-decoration-color: #0087ff\">Bidirectional</span>)      │ (<span style=\"color: #00d7ff; text-decoration-color: #00d7ff\">None</span>, <span style=\"color: #00af00; text-decoration-color: #00af00\">128</span>)                 │          <span style=\"color: #00af00; text-decoration-color: #00af00\">74,496</span> │\n",
       "├──────────────────────────────────────┼─────────────────────────────┼─────────────────┤\n",
       "│ dropout_4 (<span style=\"color: #0087ff; text-decoration-color: #0087ff\">Dropout</span>)                  │ (<span style=\"color: #00d7ff; text-decoration-color: #00d7ff\">None</span>, <span style=\"color: #00af00; text-decoration-color: #00af00\">128</span>)                 │               <span style=\"color: #00af00; text-decoration-color: #00af00\">0</span> │\n",
       "├──────────────────────────────────────┼─────────────────────────────┼─────────────────┤\n",
       "│ batch_normalization_3                │ (<span style=\"color: #00d7ff; text-decoration-color: #00d7ff\">None</span>, <span style=\"color: #00af00; text-decoration-color: #00af00\">128</span>)                 │             <span style=\"color: #00af00; text-decoration-color: #00af00\">512</span> │\n",
       "│ (<span style=\"color: #0087ff; text-decoration-color: #0087ff\">BatchNormalization</span>)                 │                             │                 │\n",
       "├──────────────────────────────────────┼─────────────────────────────┼─────────────────┤\n",
       "│ dense_2 (<span style=\"color: #0087ff; text-decoration-color: #0087ff\">Dense</span>)                      │ (<span style=\"color: #00d7ff; text-decoration-color: #00d7ff\">None</span>, <span style=\"color: #00af00; text-decoration-color: #00af00\">192</span>)                 │          <span style=\"color: #00af00; text-decoration-color: #00af00\">24,768</span> │\n",
       "├──────────────────────────────────────┼─────────────────────────────┼─────────────────┤\n",
       "│ dense_3 (<span style=\"color: #0087ff; text-decoration-color: #0087ff\">Dense</span>)                      │ (<span style=\"color: #00d7ff; text-decoration-color: #00d7ff\">None</span>, <span style=\"color: #00af00; text-decoration-color: #00af00\">8</span>)                   │           <span style=\"color: #00af00; text-decoration-color: #00af00\">1,544</span> │\n",
       "└──────────────────────────────────────┴─────────────────────────────┴─────────────────┘\n",
       "</pre>\n"
      ],
      "text/plain": [
       "┏━━━━━━━━━━━━━━━━━━━━━━━━━━━━━━━━━━━━━━┳━━━━━━━━━━━━━━━━━━━━━━━━━━━━━┳━━━━━━━━━━━━━━━━━┓\n",
       "┃\u001b[1m \u001b[0m\u001b[1mLayer (type)                        \u001b[0m\u001b[1m \u001b[0m┃\u001b[1m \u001b[0m\u001b[1mOutput Shape               \u001b[0m\u001b[1m \u001b[0m┃\u001b[1m \u001b[0m\u001b[1m        Param #\u001b[0m\u001b[1m \u001b[0m┃\n",
       "┡━━━━━━━━━━━━━━━━━━━━━━━━━━━━━━━━━━━━━━╇━━━━━━━━━━━━━━━━━━━━━━━━━━━━━╇━━━━━━━━━━━━━━━━━┩\n",
       "│ content_input (\u001b[38;5;33mInputLayer\u001b[0m)           │ (\u001b[38;5;45mNone\u001b[0m, \u001b[38;5;34m8054\u001b[0m)                │               \u001b[38;5;34m0\u001b[0m │\n",
       "├──────────────────────────────────────┼─────────────────────────────┼─────────────────┤\n",
       "│ embedding_1 (\u001b[38;5;33mEmbedding\u001b[0m)              │ (\u001b[38;5;45mNone\u001b[0m, \u001b[38;5;34m8054\u001b[0m, \u001b[38;5;34m192\u001b[0m)           │      \u001b[38;5;34m36,264,192\u001b[0m │\n",
       "├──────────────────────────────────────┼─────────────────────────────┼─────────────────┤\n",
       "│ bidirectional_2 (\u001b[38;5;33mBidirectional\u001b[0m)      │ (\u001b[38;5;45mNone\u001b[0m, \u001b[38;5;34m8054\u001b[0m, \u001b[38;5;34m128\u001b[0m)           │          \u001b[38;5;34m99,072\u001b[0m │\n",
       "├──────────────────────────────────────┼─────────────────────────────┼─────────────────┤\n",
       "│ dropout_3 (\u001b[38;5;33mDropout\u001b[0m)                  │ (\u001b[38;5;45mNone\u001b[0m, \u001b[38;5;34m8054\u001b[0m, \u001b[38;5;34m128\u001b[0m)           │               \u001b[38;5;34m0\u001b[0m │\n",
       "├──────────────────────────────────────┼─────────────────────────────┼─────────────────┤\n",
       "│ batch_normalization_2                │ (\u001b[38;5;45mNone\u001b[0m, \u001b[38;5;34m8054\u001b[0m, \u001b[38;5;34m128\u001b[0m)           │             \u001b[38;5;34m512\u001b[0m │\n",
       "│ (\u001b[38;5;33mBatchNormalization\u001b[0m)                 │                             │                 │\n",
       "├──────────────────────────────────────┼─────────────────────────────┼─────────────────┤\n",
       "│ bidirectional_3 (\u001b[38;5;33mBidirectional\u001b[0m)      │ (\u001b[38;5;45mNone\u001b[0m, \u001b[38;5;34m128\u001b[0m)                 │          \u001b[38;5;34m74,496\u001b[0m │\n",
       "├──────────────────────────────────────┼─────────────────────────────┼─────────────────┤\n",
       "│ dropout_4 (\u001b[38;5;33mDropout\u001b[0m)                  │ (\u001b[38;5;45mNone\u001b[0m, \u001b[38;5;34m128\u001b[0m)                 │               \u001b[38;5;34m0\u001b[0m │\n",
       "├──────────────────────────────────────┼─────────────────────────────┼─────────────────┤\n",
       "│ batch_normalization_3                │ (\u001b[38;5;45mNone\u001b[0m, \u001b[38;5;34m128\u001b[0m)                 │             \u001b[38;5;34m512\u001b[0m │\n",
       "│ (\u001b[38;5;33mBatchNormalization\u001b[0m)                 │                             │                 │\n",
       "├──────────────────────────────────────┼─────────────────────────────┼─────────────────┤\n",
       "│ dense_2 (\u001b[38;5;33mDense\u001b[0m)                      │ (\u001b[38;5;45mNone\u001b[0m, \u001b[38;5;34m192\u001b[0m)                 │          \u001b[38;5;34m24,768\u001b[0m │\n",
       "├──────────────────────────────────────┼─────────────────────────────┼─────────────────┤\n",
       "│ dense_3 (\u001b[38;5;33mDense\u001b[0m)                      │ (\u001b[38;5;45mNone\u001b[0m, \u001b[38;5;34m8\u001b[0m)                   │           \u001b[38;5;34m1,544\u001b[0m │\n",
       "└──────────────────────────────────────┴─────────────────────────────┴─────────────────┘\n"
      ]
     },
     "metadata": {},
     "output_type": "display_data"
    },
    {
     "data": {
      "text/html": [
       "<pre style=\"white-space:pre;overflow-x:auto;line-height:normal;font-family:Menlo,'DejaVu Sans Mono',consolas,'Courier New',monospace\"><span style=\"font-weight: bold\"> Total params: </span><span style=\"color: #00af00; text-decoration-color: #00af00\">36,465,096</span> (139.10 MB)\n",
       "</pre>\n"
      ],
      "text/plain": [
       "\u001b[1m Total params: \u001b[0m\u001b[38;5;34m36,465,096\u001b[0m (139.10 MB)\n"
      ]
     },
     "metadata": {},
     "output_type": "display_data"
    },
    {
     "data": {
      "text/html": [
       "<pre style=\"white-space:pre;overflow-x:auto;line-height:normal;font-family:Menlo,'DejaVu Sans Mono',consolas,'Courier New',monospace\"><span style=\"font-weight: bold\"> Trainable params: </span><span style=\"color: #00af00; text-decoration-color: #00af00\">36,464,584</span> (139.10 MB)\n",
       "</pre>\n"
      ],
      "text/plain": [
       "\u001b[1m Trainable params: \u001b[0m\u001b[38;5;34m36,464,584\u001b[0m (139.10 MB)\n"
      ]
     },
     "metadata": {},
     "output_type": "display_data"
    },
    {
     "data": {
      "text/html": [
       "<pre style=\"white-space:pre;overflow-x:auto;line-height:normal;font-family:Menlo,'DejaVu Sans Mono',consolas,'Courier New',monospace\"><span style=\"font-weight: bold\"> Non-trainable params: </span><span style=\"color: #00af00; text-decoration-color: #00af00\">512</span> (2.00 KB)\n",
       "</pre>\n"
      ],
      "text/plain": [
       "\u001b[1m Non-trainable params: \u001b[0m\u001b[38;5;34m512\u001b[0m (2.00 KB)\n"
      ]
     },
     "metadata": {},
     "output_type": "display_data"
    }
   ],
   "source": [
    "model = create_model()\n",
    "# model = create_model_rnn()\n",
    "# Compile the model\n",
    "model.compile(optimizer=tf.keras.optimizers.Adam(learning_rate=5e-4),\n",
    "              loss='categorical_crossentropy', metrics=['accuracy'])\n",
    "\n",
    "# Print model summary\n",
    "model.summary()\n"
   ]
  },
  {
   "cell_type": "code",
   "execution_count": 22,
   "metadata": {
    "execution": {
     "iopub.execute_input": "2025-01-15T03:29:45.125025Z",
     "iopub.status.busy": "2025-01-15T03:29:45.124693Z",
     "iopub.status.idle": "2025-01-15T03:29:45.401603Z",
     "shell.execute_reply": "2025-01-15T03:29:45.400446Z",
     "shell.execute_reply.started": "2025-01-15T03:29:45.125002Z"
    },
    "trusted": true
   },
   "outputs": [
    {
     "name": "stderr",
     "output_type": "stream",
     "text": [
      "/usr/lib/python3.10/pty.py:89: RuntimeWarning: os.fork() was called. os.fork() is incompatible with multithreaded code, and JAX is multithreaded, so this will likely lead to a deadlock.\n",
      "  pid, fd = os.forkpty()\n"
     ]
    }
   ],
   "source": [
    "# !rm -rf saved_models"
   ]
  },
  {
   "cell_type": "code",
   "execution_count": 25,
   "metadata": {
    "execution": {
     "iopub.execute_input": "2025-01-15T03:30:00.286145Z",
     "iopub.status.busy": "2025-01-15T03:30:00.285853Z",
     "iopub.status.idle": "2025-01-15T03:30:00.291025Z",
     "shell.execute_reply": "2025-01-15T03:30:00.290190Z",
     "shell.execute_reply.started": "2025-01-15T03:30:00.286123Z"
    },
    "trusted": true
   },
   "outputs": [],
   "source": [
    "# Callback\n",
    "os.makedirs(\"saved_models/weights\", exist_ok=True)\n",
    "my_callbacks = [\n",
    "    tf.keras.callbacks.EarlyStopping(monitor=\"val_loss\", patience=5,\n",
    "    mode=\"min\", restore_best_weights=True),\n",
    "    tf.keras.callbacks.BackupAndRestore(\n",
    "    backup_dir='saved_models/weights', delete_checkpoint=False\n",
    "    )\n",
    "]"
   ]
  },
  {
   "cell_type": "code",
   "execution_count": null,
   "metadata": {
    "trusted": true
   },
   "outputs": [],
   "source": [
    "# del model"
   ]
  },
  {
   "cell_type": "code",
   "execution_count": 26,
   "metadata": {
    "colab": {
     "base_uri": "https://localhost:8080/"
    },
    "execution": {
     "iopub.execute_input": "2025-01-15T03:30:02.706290Z",
     "iopub.status.busy": "2025-01-15T03:30:02.705997Z",
     "iopub.status.idle": "2025-01-15T04:28:46.949423Z",
     "shell.execute_reply": "2025-01-15T04:28:46.948650Z",
     "shell.execute_reply.started": "2025-01-15T03:30:02.706267Z"
    },
    "id": "9g-5dTT5WkEl",
    "outputId": "394a5cde-9d57-4cde-d511-e52df863b17d",
    "trusted": true
   },
   "outputs": [
    {
     "name": "stdout",
     "output_type": "stream",
     "text": [
      "Epoch 1/15\n",
      "\u001b[1m227/227\u001b[0m \u001b[32m━━━━━━━━━━━━━━━━━━━━\u001b[0m\u001b[37m\u001b[0m \u001b[1m399s\u001b[0m 2s/step - accuracy: 0.4486 - loss: 1.5151 - val_accuracy: 0.6278 - val_loss: 1.5007\n",
      "Epoch 2/15\n",
      "\u001b[1m227/227\u001b[0m \u001b[32m━━━━━━━━━━━━━━━━━━━━\u001b[0m\u001b[37m\u001b[0m \u001b[1m391s\u001b[0m 2s/step - accuracy: 0.9490 - loss: 0.1674 - val_accuracy: 0.8421 - val_loss: 0.4998\n",
      "Epoch 3/15\n",
      "\u001b[1m227/227\u001b[0m \u001b[32m━━━━━━━━━━━━━━━━━━━━\u001b[0m\u001b[37m\u001b[0m \u001b[1m390s\u001b[0m 2s/step - accuracy: 0.9944 - loss: 0.0269 - val_accuracy: 0.9290 - val_loss: 0.2553\n",
      "Epoch 4/15\n",
      "\u001b[1m227/227\u001b[0m \u001b[32m━━━━━━━━━━━━━━━━━━━━\u001b[0m\u001b[37m\u001b[0m \u001b[1m391s\u001b[0m 2s/step - accuracy: 0.9983 - loss: 0.0104 - val_accuracy: 0.9382 - val_loss: 0.2394\n",
      "Epoch 5/15\n",
      "\u001b[1m227/227\u001b[0m \u001b[32m━━━━━━━━━━━━━━━━━━━━\u001b[0m\u001b[37m\u001b[0m \u001b[1m391s\u001b[0m 2s/step - accuracy: 0.9989 - loss: 0.0067 - val_accuracy: 0.9390 - val_loss: 0.2410\n",
      "Epoch 6/15\n",
      "\u001b[1m227/227\u001b[0m \u001b[32m━━━━━━━━━━━━━━━━━━━━\u001b[0m\u001b[37m\u001b[0m \u001b[1m391s\u001b[0m 2s/step - accuracy: 0.9990 - loss: 0.0049 - val_accuracy: 0.9392 - val_loss: 0.2485\n",
      "Epoch 7/15\n",
      "\u001b[1m227/227\u001b[0m \u001b[32m━━━━━━━━━━━━━━━━━━━━\u001b[0m\u001b[37m\u001b[0m \u001b[1m391s\u001b[0m 2s/step - accuracy: 0.9992 - loss: 0.0031 - val_accuracy: 0.9367 - val_loss: 0.2728\n",
      "Epoch 8/15\n",
      "\u001b[1m227/227\u001b[0m \u001b[32m━━━━━━━━━━━━━━━━━━━━\u001b[0m\u001b[37m\u001b[0m \u001b[1m390s\u001b[0m 2s/step - accuracy: 0.9997 - loss: 0.0021 - val_accuracy: 0.9405 - val_loss: 0.2701\n",
      "Epoch 9/15\n",
      "\u001b[1m227/227\u001b[0m \u001b[32m━━━━━━━━━━━━━━━━━━━━\u001b[0m\u001b[37m\u001b[0m \u001b[1m390s\u001b[0m 2s/step - accuracy: 0.9997 - loss: 0.0020 - val_accuracy: 0.9355 - val_loss: 0.2952\n"
     ]
    }
   ],
   "source": [
    "history = model.fit(train_dataset,\n",
    "          epochs=15, callbacks=my_callbacks,\n",
    "          validation_data=val_dataset)"
   ]
  },
  {
   "cell_type": "markdown",
   "metadata": {},
   "source": [
    "## Save Model"
   ]
  },
  {
   "cell_type": "code",
   "execution_count": 31,
   "metadata": {
    "execution": {
     "iopub.execute_input": "2025-01-15T04:32:49.596104Z",
     "iopub.status.busy": "2025-01-15T04:32:49.595820Z",
     "iopub.status.idle": "2025-01-15T04:32:50.682697Z",
     "shell.execute_reply": "2025-01-15T04:32:50.681998Z",
     "shell.execute_reply.started": "2025-01-15T04:32:49.596083Z"
    },
    "trusted": true
   },
   "outputs": [],
   "source": [
    "model.save('saved_models/bidirectional-GRU.h5')"
   ]
  },
  {
   "cell_type": "markdown",
   "metadata": {},
   "source": [
    "# Evaluation"
   ]
  },
  {
   "cell_type": "code",
   "execution_count": 27,
   "metadata": {
    "execution": {
     "iopub.execute_input": "2025-01-15T04:29:32.054635Z",
     "iopub.status.busy": "2025-01-15T04:29:32.054306Z",
     "iopub.status.idle": "2025-01-15T04:29:32.499802Z",
     "shell.execute_reply": "2025-01-15T04:29:32.498830Z",
     "shell.execute_reply.started": "2025-01-15T04:29:32.054612Z"
    },
    "trusted": true
   },
   "outputs": [
    {
     "data": {
      "image/png": "[encoded data removed]",
      "text/plain": [
       "<Figure size 1200x400 with 2 Axes>"
      ]
     },
     "metadata": {},
     "output_type": "display_data"
    }
   ],
   "source": [
    "import matplotlib.pyplot as plt\n",
    "\n",
    "# Plot training & validation loss values\n",
    "plt.figure(figsize=(12, 4))\n",
    "\n",
    "plt.subplot(1, 2, 1)\n",
    "plt.plot(history.history['loss'], label='Train Loss')\n",
    "plt.plot(history.history['val_loss'], label='Validation Loss')\n",
    "plt.title('Model Loss')\n",
    "plt.ylabel('Loss')\n",
    "plt.xlabel('Epoch')\n",
    "plt.legend()\n",
    "\n",
    "# Plot training & validation accuracy values\n",
    "plt.subplot(1, 2, 2)\n",
    "plt.plot(history.history['accuracy'], label='Train Accuracy')\n",
    "plt.plot(history.history['val_accuracy'], label='Validation Accuracy')\n",
    "plt.title('Model Accuracy')\n",
    "plt.ylabel('Accuracy')\n",
    "plt.xlabel('Epoch')\n",
    "plt.legend()\n",
    "\n",
    "plt.show()"
   ]
  },
  {
   "cell_type": "code",
   "execution_count": 28,
   "metadata": {
    "execution": {
     "iopub.execute_input": "2025-01-15T04:29:36.927662Z",
     "iopub.status.busy": "2025-01-15T04:29:36.927318Z",
     "iopub.status.idle": "2025-01-15T04:30:12.850916Z",
     "shell.execute_reply": "2025-01-15T04:30:12.850130Z",
     "shell.execute_reply.started": "2025-01-15T04:29:36.927636Z"
    },
    "trusted": true
   },
   "outputs": [
    {
     "name": "stdout",
     "output_type": "stream",
     "text": [
      "\u001b[1m57/57\u001b[0m \u001b[32m━━━━━━━━━━━━━━━━━━━━\u001b[0m\u001b[37m\u001b[0m \u001b[1m36s\u001b[0m 629ms/step - accuracy: 0.9372 - loss: 0.2545\n",
      "Loss of Validation set: 0.23940232396125793, Accuracy of Validation set: 0.9382194876670837\n"
     ]
    }
   ],
   "source": [
    "val_loss, val_acc = model.evaluate(val_dataset)\n",
    "print(f\"Loss of Validation set: {val_loss}, Accuracy of Validation set: {val_acc}\")"
   ]
  },
  {
   "cell_type": "code",
   "execution_count": 29,
   "metadata": {
    "execution": {
     "iopub.execute_input": "2025-01-15T04:30:12.852077Z",
     "iopub.status.busy": "2025-01-15T04:30:12.851841Z",
     "iopub.status.idle": "2025-01-15T04:30:29.636278Z",
     "shell.execute_reply": "2025-01-15T04:30:29.635332Z",
     "shell.execute_reply.started": "2025-01-15T04:30:12.852056Z"
    },
    "trusted": true
   },
   "outputs": [
    {
     "name": "stdout",
     "output_type": "stream",
     "text": [
      "\u001b[1m27/27\u001b[0m \u001b[32m━━━━━━━━━━━━━━━━━━━━\u001b[0m\u001b[37m\u001b[0m \u001b[1m17s\u001b[0m 618ms/step - accuracy: 0.6614 - loss: 1.7429\n",
      "Loss of Test set: 1.171366810798645, Accuracy of Test set: 0.7616666555404663\n"
     ]
    }
   ],
   "source": [
    "test_loss, test_acc = model.evaluate(test_dataset)\n",
    "print(f\"Loss of Test set: {test_loss}, Accuracy of Test set: {test_acc}\")"
   ]
  },
  {
   "cell_type": "markdown",
   "metadata": {},
   "source": [
    "# Inference"
   ]
  },
  {
   "cell_type": "code",
   "execution_count": 6,
   "metadata": {
    "execution": {
     "iopub.execute_input": "2025-01-15T05:01:39.975526Z",
     "iopub.status.busy": "2025-01-15T05:01:39.974769Z",
     "iopub.status.idle": "2025-01-15T05:01:39.981019Z",
     "shell.execute_reply": "2025-01-15T05:01:39.979260Z",
     "shell.execute_reply.started": "2025-01-15T05:01:39.975488Z"
    },
    "trusted": true
   },
   "outputs": [],
   "source": [
    "import re"
   ]
  },
  {
   "cell_type": "markdown",
   "metadata": {},
   "source": [
    "## Load Model"
   ]
  },
  {
   "cell_type": "code",
   "execution_count": 7,
   "metadata": {
    "execution": {
     "iopub.execute_input": "2025-01-15T05:01:53.961316Z",
     "iopub.status.busy": "2025-01-15T05:01:53.960798Z",
     "iopub.status.idle": "2025-01-15T05:01:55.186100Z",
     "shell.execute_reply": "2025-01-15T05:01:55.185064Z",
     "shell.execute_reply.started": "2025-01-15T05:01:53.961276Z"
    },
    "trusted": true
   },
   "outputs": [],
   "source": [
    "# Load Model\n",
    "model = tf.keras.models.load_model('saved_models/bidirectional-GRU.h5')"
   ]
  },
  {
   "cell_type": "markdown",
   "metadata": {},
   "source": [
    "## Load Tokenizer"
   ]
  },
  {
   "cell_type": "code",
   "execution_count": 10,
   "metadata": {
    "execution": {
     "iopub.execute_input": "2025-01-15T05:02:39.481891Z",
     "iopub.status.busy": "2025-01-15T05:02:39.481277Z",
     "iopub.status.idle": "2025-01-15T05:02:40.625049Z",
     "shell.execute_reply": "2025-01-15T05:02:40.624062Z",
     "shell.execute_reply.started": "2025-01-15T05:02:39.481849Z"
    },
    "trusted": true
   },
   "outputs": [],
   "source": [
    "# Load Exists Tokenizers\n",
    "\n",
    "tokenizer_file = open('tokenizers/tokenizer.pkl', 'rb')\n",
    "tokenizer = pickle.load(tokenizer_file)\n",
    "\n",
    "tokenizer = tf.keras.preprocessing.text.tokenizer_from_json(tokenizer)"
   ]
  },
  {
   "cell_type": "markdown",
   "metadata": {},
   "source": [
    "## Load Label Dict"
   ]
  },
  {
   "cell_type": "code",
   "execution_count": null,
   "metadata": {
    "trusted": true
   },
   "outputs": [],
   "source": [
    "# Load the JSON file back into a dictionary\n",
    "with open(\"saved_models/label_dict.json\", 'r', encoding='utf-8') as file:\n",
    "    label_dict = json.load(file)\n",
    "file.close()"
   ]
  },
  {
   "cell_type": "markdown",
   "metadata": {},
   "source": [
    "## Real News Inference"
   ]
  },
  {
   "cell_type": "code",
   "execution_count": null,
   "metadata": {
    "trusted": true
   },
   "outputs": [],
   "source": [
    "MAX_LEN = 8054\n",
    "characters_to_replace = r'!\"#$%&()*+,-./:;=?@\\[\\\\\\]^`{|}~\\t\\n'"
   ]
  },
  {
   "cell_type": "code",
   "execution_count": 56,
   "metadata": {
    "execution": {
     "iopub.execute_input": "2025-01-15T05:32:56.644824Z",
     "iopub.status.busy": "2025-01-15T05:32:56.644404Z",
     "iopub.status.idle": "2025-01-15T05:32:58.525188Z",
     "shell.execute_reply": "2025-01-15T05:32:58.524033Z",
     "shell.execute_reply.started": "2025-01-15T05:32:56.644792Z"
    },
    "trusted": true
   },
   "outputs": [
    {
     "name": "stdout",
     "output_type": "stream",
     "text": [
      "Type of this news is: The thao\n"
     ]
    }
   ],
   "source": [
    "# Ground Truth: The thao\n",
    "content = \"\"\"\n",
    "Liverpool và Chelsea cùng mất điểm.\n",
    "Toàn bộ các đại gia ra sân ở vòng 21 Premier League sáng 15-1 đều bị cầm hòa. Trong đó, Liverpool và Chelsea phải rất vất vả mới lấy lại được 1 điểm.\n",
    "Liverpool và Chelsea cùng mất điểm.\n",
    "Liverpool (phải) vất vả giành lại 1 điểm từ tay Nottingham Forest\n",
    "\n",
    "Liverpool phải làm khách trước đội bóng duy nhất đánh bại họ ở Premier League mùa này là Nottingham Forest. Được xem là \"ngựa ô\" của mùa giải năm nay, Nottingham Forest chỉ kém ngôi đầu bảng của Liverpool có 6 điểm. Và họ hoàn toàn có thể tham gia cuộc đua vô địch.\n",
    "\n",
    "Nỗi sợ với CĐV \"lữ đoàn đỏ\" tái hiện rất sớm. Ngay phút thứ 8, Nottingham Forest ghi bàn mở tỉ số với pha lên bóng đầu tiên của họ.\n",
    "\n",
    "Liverpool và Chelsea cùng mất điểm.\n",
    "Wood ghi bàn mở tỉ số từ sớm.\n",
    "\n",
    "Từ một pha tranh chấp giữa sân, Elanga có bóng rồi chọc khe cho Chris Wood thoát xuống dứt điểm ở góc khá hẹp. Tiền đạo người New Zealand vẫn tung được cú dứt điểm hiểm hóc, hạ gục thủ thành Alisson.\n",
    "\n",
    "Trước và sau bàn thua này, Liverpool hoàn toàn làm chủ thế trận. Dù vậy, các chân sút của họ bất lực trong việc tạo ra cơ hội trước hàng thủ chơi quá chắc chắn của Nottingham Forest.\n",
    "\n",
    "Liverpool và Chelsea cùng mất điểm.\n",
    "Liverpool đỉnh bảng, Man United vẫn hạng 14 sau nửa mùa Giải Ngoại hạng Anh.\n",
    "ĐỌC NGAY\n",
    "Độ nguy hiểm của Nottingham Forest cũng khiến các cầu thủ phòng ngự Liverpool không dám dâng cao. Vì vậy, Liverpool đành chấp nhận tỉ số 0-1 sau 45 phút đầu tiên.\n",
    "\n",
    "Liverpool tăng tốc ở hiệp 2 như dự đoán, và bước ngoặt đến từ pha thay người ở phút 66 của HLV Arne Slot. Hai cầu thủ được tung vào sân là Tsimikas và Jota lập công ngay trong cú chạm bóng đầu tiên của họ.\n",
    "\n",
    "Liverpool và Chelsea cùng mất điểm\n",
    "Jota ghi bàn gỡ hòa\n",
    "\n",
    "Trên chấm phạt góc, Tsimikas tạt bóng chuẩn xác để Jota ập vào đánh đầu cận thành tung lưới đối thủ, ghi bàn gỡ hòa.\n",
    "\n",
    "Sau bàn thắng này, trận đấu cũng cởi mở hơn khi Nottingham Forest bắt đầu dâng cao đội hình. Nhờ vậy, Liverpool tạo ra hàng loạt cơ hội ăn bàn.\n",
    "\n",
    "Khá nhàn hạ trong hiệp 1, thủ thành Matz Sels trở thành tâm điểm của hiệp 2 với một chuỗi những pha cứu thua khó tin. Chỉ trong khoảng 20 phút cuối trận, thủ thành người Bỉ liên tiếp từ chối 4 cơ hội ghi bàn mười mươi của Jota, Salah và Gakpo.\n",
    "\n",
    "Nottingham Forest còn gặp may khi cú sút cực căng của Salah sau tình huống phạt góc cuối trận bị hậu vệ Ola Aina phá ngay trước vạch vôi.\n",
    "\n",
    "Không thể ghi thêm bàn thắng, Liverpool chấp nhận chia điểm với Nottingham Forest. Liverpool hiện có 47 điểm nhưng mới đá 20 trận, nhiều hơn 6 điểm so với vị trí nhì bảng của chính Nottingham Forest (đá 21 trận).\n",
    "\n",
    "Liverpool không phải quá lo lắng bởi cả hai đại gia cùng ra sân sáng 15-1 là Man City và Chelsea đều bị cầm hòa. Riêng Chelsea phải rất vất vả mới có thể giành lại 1 điểm dù được đá trên sân nhà trước Bournemouth.\n",
    "\n",
    "Chelsea mở đầu trận đấu với kịch bản vô cùng quen thuộc. Cole Palmer tỏa sáng ghi bàn mở tỉ số, để rồi hàng thủ kém cỏi khiến họ phải trả giá.\n",
    "\n",
    "Liverpool và Chelsea cùng mất điểm\n",
    "Tình huống ghi bàn gỡ hòa của Chelsea\n",
    "Từ phút 50 đến 68, Bournemouth ghi liền 2 bàn để dẫn lại 2-1. Chelsea chơi tấn công dồn dập trong những phút cuối trận và cũng có được bàn gỡ hòa nhờ pha sút phạt đẳng cấp của Reece James.\n",
    "\n",
    "Với trận hòa này, Chelsea mới có 37 điểm sau 21 trận, kém Liverpool 10 điểm và chỉ hơn đội hạng 5 là Newcastle vỏn vẹn 2 điểm. Chelsea có thể văng khỏi top 4 nếu Newcastle thắng vòng đấu này.\n",
    "\n",
    "\"\"\"\n",
    "\n",
    "content = re.sub(f\"[{re.escape(characters_to_replace)}]\", \"\", content.replace(\"\\n\", \" \"))\n",
    "content = \"<sos> \"+ word_tokenize(content.replace(\"\\n\", \"\"), format=\"text\") + \" <eos>\"\n",
    "content = tokenizer.texts_to_sequences([content])\n",
    "content = pad_sequences(content, maxlen=MAX_LEN, padding='post')\n",
    "content_predict = model.predict(content, verbose=0)\n",
    "result = np.argmax(content_predict, axis=1)\n",
    "print(f\"Type of this news is: {label_dict[str(result[0])]}\")"
   ]
  }
 ],
 "metadata": {
  "colab": {
   "provenance": []
  },
  "kaggle": {
   "accelerator": "none",
   "dataSources": [
    {
     "datasetId": 6476682,
     "sourceId": 10461457,
     "sourceType": "datasetVersion"
    },
    {
     "sourceId": 217722818,
     "sourceType": "kernelVersion"
    }
   ],
   "dockerImageVersionId": 30823,
   "isGpuEnabled": false,
   "isInternetEnabled": true,
   "language": "python",
   "sourceType": "notebook"
  },
  "kernelspec": {
   "display_name": "Python 3",
   "language": "python",
   "name": "python3"
  },
  "language_info": {
   "codemirror_mode": {
    "name": "ipython",
    "version": 3
   },
   "file_extension": ".py",
   "mimetype": "text/x-python",
   "name": "python",
   "nbconvert_exporter": "python",
   "pygments_lexer": "ipython3",
   "version": "3.10.12"
  }
 },
 "nbformat": 4,
 "nbformat_minor": 4
}
